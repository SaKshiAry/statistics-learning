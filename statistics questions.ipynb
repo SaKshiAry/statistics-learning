{
 "cells": [
  {
   "cell_type": "code",
   "execution_count": 1,
   "id": "699058e8-5a8e-40bc-bd7d-475f207f9855",
   "metadata": {},
   "outputs": [],
   "source": [
    "import pandas as pd\n",
    "import numpy as np\n",
    "import seaborn as sns\n",
    "import matplotlib.pyplot as plt\n",
    "import statistics\n",
    "import math\n",
    "from scipy import stats"
   ]
  },
  {
   "cell_type": "markdown",
   "id": "fdc20007-fdd1-4bf8-9078-ce18a5203f07",
   "metadata": {},
   "source": [
    "# Q.NO.1"
   ]
  },
  {
   "cell_type": "code",
   "execution_count": 2,
   "id": "6f6c455e-9194-48bb-bab7-fa3e7ece3257",
   "metadata": {},
   "outputs": [
    {
     "data": {
      "text/plain": [
       "array([ 95, 118, 106, 127, 120,  97, 103, 109,  91, 112, 116, 112, 118,\n",
       "       117, 114, 115, 103,  94, 101,  98, 116, 117, 107, 105, 126,  99,\n",
       "       123, 122, 103,  97, 117, 113, 119, 111,  96, 128,  90, 124, 110,\n",
       "        95, 110, 127, 107, 104, 126, 120, 124, 113, 103,  99, 103, 112,\n",
       "       115,  96,  99, 103, 129, 108,  92,  93, 117, 124,  94, 110,  96,\n",
       "        95,  93, 125,  99, 103, 104, 112,  93, 111, 104, 106, 100, 115,\n",
       "       104, 126, 103, 109, 119, 117,  98, 118,  90, 121, 129, 114,  94,\n",
       "       128, 123,  96, 104, 107,  93,  97, 119, 128])"
      ]
     },
     "execution_count": 2,
     "metadata": {},
     "output_type": "execute_result"
    }
   ],
   "source": [
    "int_list = np.random.randint(90,130,100)\n",
    "int_list"
   ]
  },
  {
   "cell_type": "markdown",
   "id": "510786cc-40cd-4ebf-945d-3e3d08fc653c",
   "metadata": {},
   "source": [
    "# (i)"
   ]
  },
  {
   "cell_type": "code",
   "execution_count": 3,
   "id": "4c212eb9-14c2-4f50-bfae-42880cbd0d98",
   "metadata": {},
   "outputs": [
    {
     "name": "stdout",
     "output_type": "stream",
     "text": [
      "Mean of the list is:  109.05\n",
      "Median of the list is :  109.0\n"
     ]
    }
   ],
   "source": [
    "def mean_median(list):\n",
    "    mean = np.mean(int_list)\n",
    "    median = np.median(int_list)\n",
    "    print(\"Mean of the list is: \" ,mean)\n",
    "    print(\"Median of the list is : \",median)\n",
    "mean_median(int_list)"
   ]
  },
  {
   "cell_type": "markdown",
   "id": "dcefbff7-8399-4143-bd79-693d12310520",
   "metadata": {},
   "source": [
    "# (ii)"
   ]
  },
  {
   "cell_type": "code",
   "execution_count": 4,
   "id": "913a4167-3ec8-4dce-be93-611545c672be",
   "metadata": {},
   "outputs": [
    {
     "name": "stdout",
     "output_type": "stream",
     "text": [
      "Mode of list is : ModeResult(mode=103, count=8)\n"
     ]
    }
   ],
   "source": [
    "def mode(list):\n",
    "    mode = stats.mode(int_list)\n",
    "    print(\"Mode of list is :\" , mode)\n",
    "mode(int_list)"
   ]
  },
  {
   "cell_type": "code",
   "execution_count": 5,
   "id": "cad123fc-b912-4b1b-b2d0-708a75a89ff9",
   "metadata": {},
   "outputs": [
    {
     "name": "stdout",
     "output_type": "stream",
     "text": [
      "Mode of list is : 103\n"
     ]
    }
   ],
   "source": [
    "## another method\n",
    "\n",
    "mode = statistics.mode(int_list)\n",
    "print(\"Mode of list is :\" , mode)"
   ]
  },
  {
   "cell_type": "markdown",
   "id": "a5575a77-742f-4bfd-91a6-3bccb0ea5885",
   "metadata": {},
   "source": [
    "# (iii)"
   ]
  },
  {
   "cell_type": "code",
   "execution_count": 6,
   "id": "36eba365-ae7f-415a-9819-c3e66e2dcc37",
   "metadata": {},
   "outputs": [
    {
     "name": "stdout",
     "output_type": "stream",
     "text": [
      "Weighted mean is :  109.05\n"
     ]
    }
   ],
   "source": [
    "def weighted_mean(list):\n",
    "    \n",
    "    # assuming equal weight for all\n",
    "    weights = [1]*len(list)\n",
    "\n",
    "# calculating weighted sum\n",
    "    weighted_sum = sum(lst*weight for lst,weight in zip(list,weights))\n",
    "    total_weight = sum(weights)\n",
    "## calulating weighted mean\n",
    "    weighted_mean = weighted_sum/total_weight\n",
    "    print(\"Weighted mean is : \" , weighted_mean)\n",
    "\n",
    "weighted_mean(int_list)\n",
    "    "
   ]
  },
  {
   "cell_type": "markdown",
   "id": "ae42fe0a-e67b-4265-942f-130b7d897af1",
   "metadata": {},
   "source": [
    "# (iv)"
   ]
  },
  {
   "cell_type": "code",
   "execution_count": 7,
   "id": "e6782081-cf4b-4788-9451-ffa1b9885b0f",
   "metadata": {},
   "outputs": [
    {
     "name": "stdout",
     "output_type": "stream",
     "text": [
      "The geometric mean is : 108.47887748151426\n"
     ]
    }
   ],
   "source": [
    "def geometric_mean(list):\n",
    "    product = 1.0    \n",
    "    for i in list:\n",
    "        if i <=0:\n",
    "            raise ValueError(\"all positive values are needed for geometric mean\")\n",
    "        product *= i\n",
    "        geometric_mean = product**(1.0/len(list))\n",
    "    print(\"The geometric mean is :\",geometric_mean)\n",
    "\n",
    "geometric_mean(int_list)\n",
    "        "
   ]
  },
  {
   "cell_type": "markdown",
   "id": "9044374d-769b-42ba-84e1-2346664e8835",
   "metadata": {},
   "source": [
    "# (v)"
   ]
  },
  {
   "cell_type": "code",
   "execution_count": 8,
   "id": "d2e73841-96d9-4599-b6fc-040da93c604e",
   "metadata": {},
   "outputs": [
    {
     "name": "stdout",
     "output_type": "stream",
     "text": [
      "Harmonic mean is : 107.90948418536489\n"
     ]
    }
   ],
   "source": [
    "def harmonic_mean(list):\n",
    "    \n",
    "# taking sum of inverse of elemnts in list    \n",
    "    total_sum = sum((1/i) for i in list)   \n",
    "    harmonic_mean = len(list)/total_sum\n",
    "    print(\"Harmonic mean is :\",harmonic_mean)\n",
    "\n",
    "harmonic_mean(int_list)"
   ]
  },
  {
   "cell_type": "markdown",
   "id": "70a93d57-9bec-4155-8523-f93ba94b1c10",
   "metadata": {},
   "source": [
    "# (vi)"
   ]
  },
  {
   "cell_type": "code",
   "execution_count": 9,
   "id": "1d71399e-8fd1-4fdf-b379-7c24b2a2fc78",
   "metadata": {},
   "outputs": [
    {
     "name": "stdout",
     "output_type": "stream",
     "text": [
      "Midrange is:  19.5\n"
     ]
    }
   ],
   "source": [
    "def midrange(list):\n",
    "    maximum = max(list)  ## finding maximum of list\n",
    "    minimum = min(list)  ## finding minimum of list\n",
    "\n",
    "    range = maximum-minimum\n",
    "    midrange = range/2               ## average of range\n",
    "    print(\"Midrange is: \",midrange)\n",
    "\n",
    "midrange(int_list)\n",
    "    "
   ]
  },
  {
   "cell_type": "markdown",
   "id": "ead57cc8-49fd-46a5-a09c-7914fa934935",
   "metadata": {},
   "source": [
    "# (vii)"
   ]
  },
  {
   "cell_type": "code",
   "execution_count": 10,
   "id": "41018e37-abf1-41e9-88ff-40fa0271ff6c",
   "metadata": {},
   "outputs": [
    {
     "name": "stdout",
     "output_type": "stream",
     "text": [
      "Trimmed mean is : 108.85\n"
     ]
    }
   ],
   "source": [
    "def trimmed_mean(list,percentage = 0.1):\n",
    "    trim = int(len(list)*percentage) ## its value is 10\n",
    "    sorted_list = sorted(list)\n",
    "    trimmed_list = sorted_list[trim:-trim]  ## trim 10 values from both sides\n",
    "\n",
    "    trimmed_mean = sum(trimmed_list)/len(trimmed_list)\n",
    "    print(\"Trimmed mean is :\" , trimmed_mean)\n",
    "\n",
    "trimmed_mean(int_list,percentage = 0.1)"
   ]
  },
  {
   "cell_type": "markdown",
   "id": "758fbf95-7e9c-46a8-a382-f5d80ff43df5",
   "metadata": {},
   "source": [
    "# Q.NO.2"
   ]
  },
  {
   "cell_type": "code",
   "execution_count": 11,
   "id": "406f7775-3563-4aa6-bdaa-b598b13fcef8",
   "metadata": {},
   "outputs": [],
   "source": [
    "int_list2 = np.random.randint(200,300,500)"
   ]
  },
  {
   "cell_type": "markdown",
   "id": "7dca1a1a-5339-48df-882a-c9490952ee04",
   "metadata": {},
   "source": [
    "# (i)"
   ]
  },
  {
   "cell_type": "code",
   "execution_count": 12,
   "id": "94361ed4-559a-48d4-a829-d1caa1499a80",
   "metadata": {},
   "outputs": [
    {
     "data": {
      "image/png": "[encoded data removed]",
      "text/plain": [
       "<Figure size 1000x600 with 2 Axes>"
      ]
     },
     "metadata": {},
     "output_type": "display_data"
    }
   ],
   "source": [
    "def new(lis):\n",
    "    transformed_data = np.random.normal(np.mean(lis),np.var(lis),len(lis))\n",
    "    return transformed_data\n",
    "int_list2=np.random.randint(200,300,500)\n",
    "fig,axis =plt.subplots(1,2,figsize = (10,6))\n",
    "\n",
    "## Frequency distribution\n",
    "sns.histplot(int_list2,color = 'red',ax=axis[0])\n",
    "axis[0].set_xlabel('Value')\n",
    "axis[0].set_title('Frequency Distribution')\n",
    "axis[0].set_ylabel('Frequency')\n",
    "\n",
    "## Gaussian distribution\n",
    "normal_dis = new(int_list2)\n",
    "sns.histplot(normal_dis,color = 'blue')\n",
    "axis[1].set_xlabel('Value')\n",
    "axis[1].set_title('Gaussian Distribution')\n",
    "axis[1].set_ylabel('Frequency')\n",
    "plt.show()"
   ]
  },
  {
   "cell_type": "code",
   "execution_count": 13,
   "id": "50f59cab-a5e1-44a6-b9f1-9ab71d336d84",
   "metadata": {},
   "outputs": [
    {
     "data": {
      "image/png": "[encoded data removed]",
      "text/plain": [
       "<Figure size 640x480 with 1 Axes>"
      ]
     },
     "metadata": {},
     "output_type": "display_data"
    }
   ],
   "source": [
    "# Part 2 \n",
    "sns.kdeplot(int_list2 ,color = 'green')\n",
    "plt.xlabel('Values')\n",
    "plt.title(\"Frequency Smoothened\")\n",
    "plt.show()"
   ]
  },
  {
   "cell_type": "code",
   "execution_count": 14,
   "id": "0ee360bb-99fb-4b96-a735-fd4ef2eca1ec",
   "metadata": {},
   "outputs": [
    {
     "data": {
      "image/png": "[encoded data removed]",
      "text/plain": [
       "<Figure size 1000x600 with 2 Axes>"
      ]
     },
     "metadata": {},
     "output_type": "display_data"
    }
   ],
   "source": [
    "def new(lis):\n",
    "    transformed_data = np.random.normal(np.mean(lis),np.var(lis),len(lis))\n",
    "    return transformed_data\n",
    "int_list2=np.random.randint(200,300,500)\n",
    "fig,axis =plt.subplots(1,2,figsize = (10,6))\n",
    "\n",
    "## Frequency distribution\n",
    "sns.kdeplot(int_list2,color = 'red', ax=axis[0])\n",
    "axis[0].set_xlabel('Value')\n",
    "axis[0].set_title('Smoothened KDE plot')\n",
    "axis[0].set_ylabel('Frequency')\n",
    "\n",
    "## Gaussian distribution\n",
    "normal_dis = new(int_list2)\n",
    "sns.histplot(normal_dis,color = 'blue',kde = True)\n",
    "axis[1].set_xlabel('Value')\n",
    "axis[1].set_title('Gaussian Distribution')\n",
    "axis[1].set_ylabel('Frequency')\n",
    "plt.show()"
   ]
  },
  {
   "cell_type": "markdown",
   "id": "7b97598a-c087-465d-bfea-78262d963646",
   "metadata": {},
   "source": [
    "# (ii)"
   ]
  },
  {
   "cell_type": "code",
   "execution_count": 15,
   "id": "b56feaf0-eb45-4231-8bc1-e511bad6a786",
   "metadata": {},
   "outputs": [
    {
     "name": "stdout",
     "output_type": "stream",
     "text": [
      "the range is:  99\n"
     ]
    }
   ],
   "source": [
    "def range(list):\n",
    "    maximum = max(list)  ## finding maximum of list\n",
    "    minimum = min(list)  ## finding minimum of list\n",
    "\n",
    "    range = maximum-minimum\n",
    "    print(\"the range is: \",range)\n",
    "range(int_list2)"
   ]
  },
  {
   "cell_type": "markdown",
   "id": "549895b5-ea29-4c9e-9fa8-04aed172419e",
   "metadata": {},
   "source": [
    "# (iii)"
   ]
  },
  {
   "cell_type": "code",
   "execution_count": 16,
   "id": "bba87488-930a-4e80-9f28-c0fe9166eee2",
   "metadata": {},
   "outputs": [
    {
     "name": "stdout",
     "output_type": "stream",
     "text": [
      "variance is :  738.7456159999997\n",
      "standard deviation is :  27.17987520206816\n"
     ]
    }
   ],
   "source": [
    "def program(list):\n",
    "    mean = np.mean(list)\n",
    "    val = 0.0\n",
    "    for i in list:\n",
    "        val += (i-mean)**2\n",
    "        var = (1.0/len(list))*val\n",
    "    std = var**0.5\n",
    "    print(\"variance is : \",var)\n",
    "    print(\"standard deviation is : \" ,std)\n",
    "program(int_list2)"
   ]
  },
  {
   "cell_type": "code",
   "execution_count": 17,
   "id": "1bde58b5-bdac-4348-bba0-9b134b49dd06",
   "metadata": {},
   "outputs": [
    {
     "data": {
      "text/plain": [
       "(738.745616, 27.179875202068168)"
      ]
     },
     "execution_count": 17,
     "metadata": {},
     "output_type": "execute_result"
    }
   ],
   "source": [
    "## another method\n",
    "np.var(int_list2),np.std(int_list2)\n"
   ]
  },
  {
   "cell_type": "markdown",
   "id": "91d9d8f8-90b9-4635-91ac-01940312b254",
   "metadata": {},
   "source": [
    "# (iv)"
   ]
  },
  {
   "cell_type": "code",
   "execution_count": 18,
   "id": "923608d3-9887-41bb-8b4c-9bbcc9a35226",
   "metadata": {},
   "outputs": [
    {
     "name": "stdout",
     "output_type": "stream",
     "text": [
      "The IQR is:  48.0\n"
     ]
    }
   ],
   "source": [
    "def interquartile_range(list):\n",
    "    Q3 =np.percentile(int_list2 , (75))  ## gives the value of Q3 i.e 75% of data lies below it\n",
    "    Q1 = np.percentile(int_list2 , (25)) ## gives the value of Q1 i.e 25% of data lies below it\n",
    "    IQR = Q3 - Q1\n",
    "    print(\"The IQR is: \" ,IQR)\n",
    "interquartile_range(int_list2)"
   ]
  },
  {
   "cell_type": "markdown",
   "id": "e7dd5856-8a8a-4431-a39c-2db030f45b2f",
   "metadata": {},
   "source": [
    "# (v)"
   ]
  },
  {
   "cell_type": "code",
   "execution_count": 19,
   "id": "58f85135-84ca-44c0-853e-fa1afb261ede",
   "metadata": {},
   "outputs": [
    {
     "name": "stdout",
     "output_type": "stream",
     "text": [
      "coefficient of variance is10.855796655404024 % : \n"
     ]
    }
   ],
   "source": [
    "## The coefficient of variation (CV) is a measure used to compare the variability of data sets with different means and units. It is defined as the ratio of the standard deviation to the mean \n",
    "\n",
    "def coefficient_var(list):\n",
    "    mean = np.mean(list)\n",
    "    std = np.std(list)\n",
    "    cv = (std/mean)*100\n",
    "    print(f\"coefficient of variance is{cv} % : \")\n",
    "coefficient_var(int_list2)"
   ]
  },
  {
   "cell_type": "markdown",
   "id": "8e2bc268-6ef2-4586-b9dd-7e18e7c4700f",
   "metadata": {},
   "source": [
    "# (vi)"
   ]
  },
  {
   "cell_type": "code",
   "execution_count": 20,
   "id": "790df805-0f07-4639-86eb-ac42e97a9503",
   "metadata": {},
   "outputs": [
    {
     "name": "stdout",
     "output_type": "stream",
     "text": [
      "Mean absolute deviation is :  23.55199999999998\n"
     ]
    }
   ],
   "source": [
    "def MAD(list):\n",
    "    mean = np.mean(list)\n",
    "    val = 0.0\n",
    "    for i in list:\n",
    "        val += abs(i-mean)\n",
    "    mad = (1/len(list))*val\n",
    "    print(\"Mean absolute deviation is : \",mad)\n",
    "MAD(int_list2)"
   ]
  },
  {
   "cell_type": "code",
   "execution_count": 21,
   "id": "bb41e0c6-0904-421b-8c28-1a8c55ee91d9",
   "metadata": {},
   "outputs": [
    {
     "data": {
      "text/plain": [
       "23.552"
      ]
     },
     "execution_count": 21,
     "metadata": {},
     "output_type": "execute_result"
    }
   ],
   "source": [
    "## alternate method to find mean absolute deviation\n",
    "\n",
    "a = np.mean(int_list2)\n",
    "np.mean(np.abs(int_list2 - a))"
   ]
  },
  {
   "cell_type": "markdown",
   "id": "af88bc20-460b-4983-82b5-ac1fdf9cd21b",
   "metadata": {},
   "source": [
    "# (vii)"
   ]
  },
  {
   "cell_type": "code",
   "execution_count": 22,
   "id": "d8c15c09-4ae9-4047-9072-282b3193e9f8",
   "metadata": {},
   "outputs": [
    {
     "name": "stdout",
     "output_type": "stream",
     "text": [
      "quartile deviation is :  24.0\n"
     ]
    }
   ],
   "source": [
    "## Quartile deviaition \n",
    "\n",
    "def quar_dev(data):\n",
    "# Calculate quartiles\n",
    "    Q1 = np.percentile(data, 25)\n",
    "    Q3 = np.percentile(data, 75)\n",
    "    quartile_dev = (Q3 - Q1)/2\n",
    "    print(\"quartile deviation is : \" ,quartile_dev)\n",
    "quar_dev(int_list2)"
   ]
  },
  {
   "cell_type": "markdown",
   "id": "9889c160-bb4c-4fe7-b0a3-5e9d30c1c692",
   "metadata": {},
   "source": [
    "# (viii)"
   ]
  },
  {
   "cell_type": "code",
   "execution_count": 23,
   "id": "02987cf7-8788-4981-9380-63e54720d2de",
   "metadata": {},
   "outputs": [
    {
     "name": "stdout",
     "output_type": "stream",
     "text": [
      "Coefficient of dispersion is :  0.19839679358717435\n"
     ]
    }
   ],
   "source": [
    "'''The coefficient of dispersion (COD) is a measure of relative variation or dispersion of a dataset. \n",
    "It is used to compare the variability of two or more datasets that may have different units or scales. \n",
    "The coefficient of dispersion is defined as the ratio of the range (difference between the maximum and\n",
    "minimum values) to the sum of the maximum and minimum values of the dataset.'''\n",
    "\n",
    "def coeff_disp(data):\n",
    "    range = max(data)-min(data)\n",
    "    sum = max(data)+min(data)\n",
    "    coeff_dispersion = range/sum\n",
    "    print(\"Coefficient of dispersion is : \" , coeff_dispersion)\n",
    "\n",
    "coeff_disp(int_list2)"
   ]
  },
  {
   "cell_type": "markdown",
   "id": "72f93224-ebe1-4eb2-97e0-6772bb576031",
   "metadata": {},
   "source": [
    "# Q.NO.3"
   ]
  },
  {
   "cell_type": "code",
   "execution_count": 24,
   "id": "1c8d4794-ac58-4233-af12-fcbdff85e8b2",
   "metadata": {},
   "outputs": [
    {
     "name": "stdout",
     "output_type": "stream",
     "text": [
      "expected value is :  4.245\n",
      "variance is :  5.404975\n"
     ]
    }
   ],
   "source": [
    "class DiscreteRandomVariable:\n",
    "    def __init__(self , value , probabilities):\n",
    "        self.value = value\n",
    "        self.probabilities = probabilities\n",
    "\n",
    "    def expected_value(self):\n",
    "        expected_value = sum(x*p for x,p in zip(self.value,self.probabilities))\n",
    "        return expected_value\n",
    "\n",
    "    def variance(self):\n",
    "        mean = self.expected_value()\n",
    "        variance= sum(p*(x-mean)**2 for x,p in zip(self.value , self.probabilities))\n",
    "        return variance\n",
    "if __name__ == \"__main__\":\n",
    "    value = [2,5,4,3,1,5,6,7,3,5]\n",
    "    probabilities = [0.1 , 0.025,0.075,0.1,0.2,0.02,0.08,0.3,0.03,0.07]\n",
    "\n",
    "    random_variable = DiscreteRandomVariable(value,probabilities)\n",
    "    \n",
    "    print(\"expected value is : \",random_variable.expected_value())\n",
    "    print(\"variance is : \", random_variable.variance())"
   ]
  },
  {
   "cell_type": "markdown",
   "id": "d0df9a35-cc6b-4dad-bfbb-5613b43df247",
   "metadata": {},
   "source": [
    "# Q.NO.4"
   ]
  },
  {
   "cell_type": "code",
   "execution_count": 25,
   "id": "f3816916-4eda-499c-ab7d-c1632c2b2132",
   "metadata": {},
   "outputs": [
    {
     "name": "stdout",
     "output_type": "stream",
     "text": [
      "expected value:  6.93\n"
     ]
    }
   ],
   "source": [
    "def expected_value(value,probability):\n",
    "    expected_value1 = sum(x*p for x,p in zip(value,probability))\n",
    "    \n",
    "    print(\"expected value: \" , expected_value1)\n",
    "value = [1,2,3,4,5,6]\n",
    "probability = [0.33,0.33,0.33,0.33,0.33,0.33]\n",
    "\n",
    "\n",
    "expected_value(value,probability)\n"
   ]
  },
  {
   "cell_type": "code",
   "execution_count": 26,
   "id": "ac9aa868-2058-45c6-96da-9be43699903f",
   "metadata": {},
   "outputs": [
    {
     "name": "stdout",
     "output_type": "stream",
     "text": [
      "variance :  29.069501999999993\n"
     ]
    }
   ],
   "source": [
    "def variance(value,probability):\n",
    "    mean = sum(x*p for x,p in zip (value,probability))\n",
    "    variance = sum(p*(x-mean)**2 for x,p in zip(value,probability))\n",
    "    print(\"variance : \" ,variance)\n",
    "value = [1,2,3,4,5,6]\n",
    "probability = [0.33,0.33,0.33,0.33,0.33,0.33]\n",
    "\n",
    "\n",
    "variance(value,probability)"
   ]
  },
  {
   "cell_type": "markdown",
   "id": "fa32b73f-c791-4b2d-85b1-6af02531df0a",
   "metadata": {},
   "source": [
    "# Q.NO.5"
   ]
  },
  {
   "cell_type": "code",
   "execution_count": 27,
   "id": "d3d37957-c18e-4678-9899-3ee73b4c5f98",
   "metadata": {},
   "outputs": [
    {
     "name": "stdout",
     "output_type": "stream",
     "text": [
      "random samples :  [2 5 2 2 1 1 4 3 3 2 4 2 6 5 4 1 4 3 1 2]\n",
      "mean :  3.0\n",
      "variance :  -2.0999999999999996\n"
     ]
    }
   ],
   "source": [
    "def binomial():\n",
    "    n=10  ## number of trials\n",
    "    p=0.3  ## probability of gettting success\n",
    "\n",
    "    samples = np.random.binomial(n,p,20)\n",
    "    mean = n*p\n",
    "    variance = n*p*(p-1)\n",
    "    print(\"random samples : \",samples)\n",
    "    print(\"mean : \",mean)\n",
    "    print(\"variance : \" , variance)\n",
    "\n",
    "binomial()"
   ]
  },
  {
   "cell_type": "code",
   "execution_count": 28,
   "id": "64fb6890-b400-44f8-9286-747fc46870a8",
   "metadata": {},
   "outputs": [
    {
     "name": "stdout",
     "output_type": "stream",
     "text": [
      "Generated random samples from Poisson distribution with lambda = 3.5\n",
      "[2 3 5 0 1 2 7 3 4 4]\n",
      "mean and variance is : 3.5 and 3.5\n"
     ]
    }
   ],
   "source": [
    "def poisson():\n",
    "    lam = 3.5  # Average rate (mean) of events per interval\n",
    "\n",
    "# Generate random samples from the Poisson distribution\n",
    "    samples = np.random.poisson(lam, size=10)  #  Generate 10 samples\n",
    "    mean = lam\n",
    "    variance = lam   #mean and variance are same in poisson distribution\n",
    "    print(\"Generated random samples from Poisson distribution with lambda =\", lam)\n",
    "    print(samples)\n",
    "    print(f\"mean and variance is : {mean} and {variance}\")\n",
    "    \n",
    "poisson()"
   ]
  },
  {
   "cell_type": "markdown",
   "id": "61c7659a-d41d-4b4d-8d00-abb0314b99f4",
   "metadata": {},
   "source": [
    "# Q.NO.6"
   ]
  },
  {
   "cell_type": "code",
   "execution_count": 29,
   "id": "88c6cc6f-78c7-47b7-be1b-3f8307856d19",
   "metadata": {},
   "outputs": [
    {
     "name": "stdout",
     "output_type": "stream",
     "text": [
      "Sample from gaussian distribution is :  [-1.36471181  0.5058367   2.07982949 -0.83985806 -1.75973529  0.11831851\n",
      " -0.31200694  0.13899013  0.03004    -0.21640275]\n",
      "Mean of sample is :  -0.16197000135373454\n",
      "Variance of sample is :  1.016208522053332\n",
      "Standard deviation of sample is :  1.0080716849774782\n"
     ]
    }
   ],
   "source": [
    "def gaussian():\n",
    "    sample = np.random.normal(0,1,10)\n",
    "    mean = np.mean(sample)\n",
    "    variance = np.var(sample)\n",
    "    std = np.std(sample)\n",
    "    print(\"Sample from gaussian distribution is : \" ,sample)\n",
    "    print(\"Mean of sample is : \" , mean)\n",
    "    print(\"Variance of sample is : \" , variance)\n",
    "    print(\"Standard deviation of sample is : \" , std)\n",
    "\n",
    "gaussian()"
   ]
  },
  {
   "cell_type": "markdown",
   "id": "81806b24-594e-4c77-a1e3-56c562dabec9",
   "metadata": {},
   "source": [
    "# Q.NO.7"
   ]
  },
  {
   "cell_type": "code",
   "execution_count": 30,
   "id": "b57d0c5d-fbf5-4625-8cb2-bb7d5616b64b",
   "metadata": {},
   "outputs": [
    {
     "data": {
      "text/html": [
       "<div>\n",
       "<style scoped>\n",
       "    .dataframe tbody tr th:only-of-type {\n",
       "        vertical-align: middle;\n",
       "    }\n",
       "\n",
       "    .dataframe tbody tr th {\n",
       "        vertical-align: top;\n",
       "    }\n",
       "\n",
       "    .dataframe thead th {\n",
       "        text-align: right;\n",
       "    }\n",
       "</style>\n",
       "<table border=\"1\" class=\"dataframe\">\n",
       "  <thead>\n",
       "    <tr style=\"text-align: right;\">\n",
       "      <th></th>\n",
       "      <th>total_bill</th>\n",
       "      <th>tip</th>\n",
       "      <th>sex</th>\n",
       "      <th>smoker</th>\n",
       "      <th>day</th>\n",
       "      <th>time</th>\n",
       "      <th>size</th>\n",
       "    </tr>\n",
       "  </thead>\n",
       "  <tbody>\n",
       "    <tr>\n",
       "      <th>0</th>\n",
       "      <td>16.99</td>\n",
       "      <td>1.01</td>\n",
       "      <td>Female</td>\n",
       "      <td>No</td>\n",
       "      <td>Sun</td>\n",
       "      <td>Dinner</td>\n",
       "      <td>2</td>\n",
       "    </tr>\n",
       "    <tr>\n",
       "      <th>1</th>\n",
       "      <td>10.34</td>\n",
       "      <td>1.66</td>\n",
       "      <td>Male</td>\n",
       "      <td>No</td>\n",
       "      <td>Sun</td>\n",
       "      <td>Dinner</td>\n",
       "      <td>3</td>\n",
       "    </tr>\n",
       "    <tr>\n",
       "      <th>2</th>\n",
       "      <td>21.01</td>\n",
       "      <td>3.50</td>\n",
       "      <td>Male</td>\n",
       "      <td>No</td>\n",
       "      <td>Sun</td>\n",
       "      <td>Dinner</td>\n",
       "      <td>3</td>\n",
       "    </tr>\n",
       "    <tr>\n",
       "      <th>3</th>\n",
       "      <td>23.68</td>\n",
       "      <td>3.31</td>\n",
       "      <td>Male</td>\n",
       "      <td>No</td>\n",
       "      <td>Sun</td>\n",
       "      <td>Dinner</td>\n",
       "      <td>2</td>\n",
       "    </tr>\n",
       "    <tr>\n",
       "      <th>4</th>\n",
       "      <td>24.59</td>\n",
       "      <td>3.61</td>\n",
       "      <td>Female</td>\n",
       "      <td>No</td>\n",
       "      <td>Sun</td>\n",
       "      <td>Dinner</td>\n",
       "      <td>4</td>\n",
       "    </tr>\n",
       "    <tr>\n",
       "      <th>...</th>\n",
       "      <td>...</td>\n",
       "      <td>...</td>\n",
       "      <td>...</td>\n",
       "      <td>...</td>\n",
       "      <td>...</td>\n",
       "      <td>...</td>\n",
       "      <td>...</td>\n",
       "    </tr>\n",
       "    <tr>\n",
       "      <th>239</th>\n",
       "      <td>29.03</td>\n",
       "      <td>5.92</td>\n",
       "      <td>Male</td>\n",
       "      <td>No</td>\n",
       "      <td>Sat</td>\n",
       "      <td>Dinner</td>\n",
       "      <td>3</td>\n",
       "    </tr>\n",
       "    <tr>\n",
       "      <th>240</th>\n",
       "      <td>27.18</td>\n",
       "      <td>2.00</td>\n",
       "      <td>Female</td>\n",
       "      <td>Yes</td>\n",
       "      <td>Sat</td>\n",
       "      <td>Dinner</td>\n",
       "      <td>2</td>\n",
       "    </tr>\n",
       "    <tr>\n",
       "      <th>241</th>\n",
       "      <td>22.67</td>\n",
       "      <td>2.00</td>\n",
       "      <td>Male</td>\n",
       "      <td>Yes</td>\n",
       "      <td>Sat</td>\n",
       "      <td>Dinner</td>\n",
       "      <td>2</td>\n",
       "    </tr>\n",
       "    <tr>\n",
       "      <th>242</th>\n",
       "      <td>17.82</td>\n",
       "      <td>1.75</td>\n",
       "      <td>Male</td>\n",
       "      <td>No</td>\n",
       "      <td>Sat</td>\n",
       "      <td>Dinner</td>\n",
       "      <td>2</td>\n",
       "    </tr>\n",
       "    <tr>\n",
       "      <th>243</th>\n",
       "      <td>18.78</td>\n",
       "      <td>3.00</td>\n",
       "      <td>Female</td>\n",
       "      <td>No</td>\n",
       "      <td>Thur</td>\n",
       "      <td>Dinner</td>\n",
       "      <td>2</td>\n",
       "    </tr>\n",
       "  </tbody>\n",
       "</table>\n",
       "<p>244 rows × 7 columns</p>\n",
       "</div>"
      ],
      "text/plain": [
       "     total_bill   tip     sex smoker   day    time  size\n",
       "0         16.99  1.01  Female     No   Sun  Dinner     2\n",
       "1         10.34  1.66    Male     No   Sun  Dinner     3\n",
       "2         21.01  3.50    Male     No   Sun  Dinner     3\n",
       "3         23.68  3.31    Male     No   Sun  Dinner     2\n",
       "4         24.59  3.61  Female     No   Sun  Dinner     4\n",
       "..          ...   ...     ...    ...   ...     ...   ...\n",
       "239       29.03  5.92    Male     No   Sat  Dinner     3\n",
       "240       27.18  2.00  Female    Yes   Sat  Dinner     2\n",
       "241       22.67  2.00    Male    Yes   Sat  Dinner     2\n",
       "242       17.82  1.75    Male     No   Sat  Dinner     2\n",
       "243       18.78  3.00  Female     No  Thur  Dinner     2\n",
       "\n",
       "[244 rows x 7 columns]"
      ]
     },
     "execution_count": 30,
     "metadata": {},
     "output_type": "execute_result"
    }
   ],
   "source": [
    "df = sns.load_dataset('tips')\n",
    "df"
   ]
  },
  {
   "cell_type": "code",
   "execution_count": 31,
   "id": "04947d07-fd68-458b-b3a1-9aaf07ea0819",
   "metadata": {},
   "outputs": [],
   "source": [
    "from scipy.stats import skew"
   ]
  },
  {
   "cell_type": "markdown",
   "id": "6c5c9fef-6817-45e2-a688-a826e09779fb",
   "metadata": {},
   "source": [
    "# (i)"
   ]
  },
  {
   "cell_type": "code",
   "execution_count": 32,
   "id": "3734be32-fbb4-425b-a229-880e4e75afbc",
   "metadata": {},
   "outputs": [
    {
     "name": "stdout",
     "output_type": "stream",
     "text": [
      "skewness of total_bill is  :  1.1262346334818638\n",
      "skewness of tip is :  1.4564266884221506\n"
     ]
    }
   ],
   "source": [
    "def skewness():\n",
    "    skewness = skew(df['total_bill'])\n",
    "    skewness1 = skew(df['tip'])\n",
    "    print(\"skewness of total_bill is  : \" , skewness)\n",
    "    print(\"skewness of tip is : \" , skewness1)\n",
    "\n",
    "skewness()"
   ]
  },
  {
   "cell_type": "code",
   "execution_count": 33,
   "id": "3142b3d8-5de8-4ac5-86d8-c279378c9f65",
   "metadata": {},
   "outputs": [
    {
     "data": {
      "text/plain": [
       "<Axes: xlabel='total_bill', ylabel='Count'>"
      ]
     },
     "execution_count": 33,
     "metadata": {},
     "output_type": "execute_result"
    },
    {
     "data": {
      "image/png": "[encoded data removed]",
      "text/plain": [
       "<Figure size 640x480 with 1 Axes>"
      ]
     },
     "metadata": {},
     "output_type": "display_data"
    }
   ],
   "source": [
    "sns.histplot(df['total_bill'],kde = True)"
   ]
  },
  {
   "cell_type": "code",
   "execution_count": 34,
   "id": "e66de25e-210c-4ed7-8136-051b43f98f2a",
   "metadata": {},
   "outputs": [
    {
     "data": {
      "text/plain": [
       "<Axes: xlabel='tip', ylabel='Count'>"
      ]
     },
     "execution_count": 34,
     "metadata": {},
     "output_type": "execute_result"
    },
    {
     "data": {
      "image/png": "[encoded data removed]",
      "text/plain": [
       "<Figure size 640x480 with 1 Axes>"
      ]
     },
     "metadata": {},
     "output_type": "display_data"
    }
   ],
   "source": [
    "sns.histplot(df['tip'],kde = True)"
   ]
  },
  {
   "cell_type": "markdown",
   "id": "79e6e328-dc5d-44da-8e7b-50c6d0110b43",
   "metadata": {},
   "source": [
    "# (ii)"
   ]
  },
  {
   "cell_type": "code",
   "execution_count": 35,
   "id": "6c57d2de-ff16-46f6-a102-7aa7ce42a3d7",
   "metadata": {},
   "outputs": [
    {
     "name": "stdout",
     "output_type": "stream",
     "text": [
      "The total_bill column is positively skewed (skewness = 1.1262346334818638)\n",
      "The tip column is positively skewed (skewness = 1.4564266884221506)\n"
     ]
    }
   ],
   "source": [
    "def skewness():\n",
    "    skewness = skew(df['total_bill'])\n",
    "    skewness1 = skew(df['tip'])\n",
    "    if skewness > 0:\n",
    "        print(f\"The {'total_bill'} column is positively skewed (skewness = {skewness})\")\n",
    "    elif skewness < 0:\n",
    "        print(f\"The {'total_bill'} column is negatively skewed (skewness = {skewness})\")\n",
    "    else:\n",
    "        print(f\"The {'total_bill'} column is approximately symmetric (skewness = {skewness})\")\n",
    "    if skewness1 > 0:\n",
    "        print(f\"The {'tip'} column is positively skewed (skewness = {skewness1})\")\n",
    "    elif skewness1 < 0:\n",
    "        print(f\"The {'tip'} column is negatively skewed (skewness = {skewness1})\")\n",
    "    else:\n",
    "        print(f\"The {'tip'} column is approximately symmetric (skewness = {skewness1})\")\n",
    "skewness()"
   ]
  },
  {
   "cell_type": "markdown",
   "id": "08c7f807-1586-4ed2-883b-d82edb70642f",
   "metadata": {},
   "source": [
    "# (iii)"
   ]
  },
  {
   "cell_type": "code",
   "execution_count": 36,
   "id": "aa4d2e4e-3b97-4593-9130-e25656f84c83",
   "metadata": {},
   "outputs": [
    {
     "name": "stdout",
     "output_type": "stream",
     "text": [
      "the covariance is :   8.323501629224854\n"
     ]
    }
   ],
   "source": [
    "def cov():\n",
    "    bill = df['total_bill']\n",
    "    tip = df['tip']\n",
    "    cov = bill.cov(tip)\n",
    "    print(\"the covariance is :  \" ,cov)\n",
    "\n",
    "cov()"
   ]
  },
  {
   "cell_type": "markdown",
   "id": "c63e953c-777f-4fa8-b7bc-57a011bcb7f9",
   "metadata": {},
   "source": [
    "# (iv)"
   ]
  },
  {
   "cell_type": "code",
   "execution_count": 37,
   "id": "40d565c2-88f9-47cb-883a-baa1b9b5eb2c",
   "metadata": {},
   "outputs": [
    {
     "name": "stdout",
     "output_type": "stream",
     "text": [
      "The correlation is : 0.6757341092113641\n"
     ]
    }
   ],
   "source": [
    "def pearson_corr():\n",
    "    bill = df['total_bill']\n",
    "    tip = df['tip']\n",
    "    corr = bill.corr(tip)\n",
    "    print(\"The correlation is :\",corr)\n",
    "\n",
    "pearson_corr()"
   ]
  },
  {
   "cell_type": "markdown",
   "id": "f0dde882-1687-48d9-bc5e-c3956d934af8",
   "metadata": {},
   "source": [
    "# (v)"
   ]
  },
  {
   "cell_type": "code",
   "execution_count": 38,
   "id": "b06703d0-14bb-4720-9840-8975e1e79d3e",
   "metadata": {},
   "outputs": [
    {
     "data": {
      "text/plain": [
       "Text(0.5, 1.0, 'correlation scatter plot')"
      ]
     },
     "execution_count": 38,
     "metadata": {},
     "output_type": "execute_result"
    },
    {
     "data": {
      "image/png": "[encoded data removed]",
      "text/plain": [
       "<Figure size 640x480 with 1 Axes>"
      ]
     },
     "metadata": {},
     "output_type": "display_data"
    }
   ],
   "source": [
    "sns.scatterplot(data = df , x=df['total_bill'] , y = df['tip'] )\n",
    "plt.title('correlation scatter plot') "
   ]
  },
  {
   "cell_type": "markdown",
   "id": "5cc3b19e-9db7-48e8-b9b9-fed607e26b80",
   "metadata": {},
   "source": [
    "# Q.NO.8"
   ]
  },
  {
   "cell_type": "code",
   "execution_count": 39,
   "id": "6ca8edc9-f4f6-463b-a3da-ca4dc1a19021",
   "metadata": {},
   "outputs": [
    {
     "name": "stdout",
     "output_type": "stream",
     "text": [
      "The pdf of the data is :  [1.48671951e-06 1.56294518e-06 1.64291438e-06 1.72680223e-06\n",
      " 1.81479157e-06 1.90707332e-06 2.00384677e-06 2.10531999e-06\n",
      " 2.21171010e-06 2.32324372e-06 2.44015731e-06 2.56269761e-06\n",
      " 2.69112199e-06 2.82569895e-06 2.96670852e-06 3.11444274e-06\n",
      " 3.26920615e-06 3.43131624e-06 3.60110404e-06 3.77891458e-06\n",
      " 3.96510749e-06 4.16005756e-06 4.36415530e-06 4.57780761e-06\n",
      " 4.80143840e-06 5.03548920e-06 5.28041992e-06 5.53670947e-06\n",
      " 5.80485658e-06 6.08538047e-06 6.37882168e-06 6.68574289e-06\n",
      " 7.00672970e-06 7.34239154e-06 7.69336257e-06 8.06030255e-06\n",
      " 8.44389784e-06 8.84486240e-06 9.26393876e-06 9.70189908e-06\n",
      " 1.01595463e-05 1.06377152e-05 1.11372736e-05 1.16591234e-05\n",
      " 1.22042022e-05 1.27734842e-05 1.33679815e-05 1.39887459e-05\n",
      " 1.46368699e-05 1.53134881e-05 1.60197791e-05 1.67569666e-05\n",
      " 1.75263212e-05 1.83291622e-05 1.91668589e-05 2.00408326e-05\n",
      " 2.09525584e-05 2.19035668e-05 2.28954459e-05 2.39298433e-05\n",
      " 2.50084680e-05 2.61330924e-05 2.73055547e-05 2.85277610e-05\n",
      " 2.98016873e-05 3.11293824e-05 3.25129696e-05 3.39546498e-05\n",
      " 3.54567035e-05 3.70214940e-05 3.86514694e-05 4.03491658e-05\n",
      " 4.21172102e-05 4.39583229e-05 4.58753211e-05 4.78711216e-05\n",
      " 4.99487441e-05 5.21113142e-05 5.43620671e-05 5.67043508e-05\n",
      " 5.91416295e-05 6.16774875e-05 6.43156324e-05 6.70598996e-05\n",
      " 6.99142555e-05 7.28828016e-05 7.59697791e-05 7.91795725e-05\n",
      " 8.25167139e-05 8.59858880e-05 8.95919357e-05 9.33398595e-05\n",
      " 9.72348278e-05 1.01282180e-04 1.05487430e-04 1.09856275e-04\n",
      " 1.14394597e-04 1.19108467e-04 1.24004157e-04 1.29088138e-04\n",
      " 1.34367089e-04 1.39847906e-04 1.45537701e-04 1.51443813e-04\n",
      " 1.57573813e-04 1.63935511e-04 1.70536959e-04 1.77386463e-04\n",
      " 1.84492586e-04 1.91864155e-04 1.99510270e-04 2.07440309e-04\n",
      " 2.15663936e-04 2.24191111e-04 2.33032092e-04 2.42197448e-04\n",
      " 2.51698064e-04 2.61545150e-04 2.71750248e-04 2.82325244e-04\n",
      " 2.93282371e-04 3.04634221e-04 3.16393754e-04 3.28574305e-04\n",
      " 3.41189596e-04 3.54253739e-04 3.67781255e-04 3.81787075e-04\n",
      " 3.96286554e-04 4.11295478e-04 4.26830079e-04 4.42907039e-04\n",
      " 4.59543504e-04 4.76757094e-04 4.94565913e-04 5.12988560e-04\n",
      " 5.32044139e-04 5.51752272e-04 5.72133108e-04 5.93207338e-04\n",
      " 6.14996199e-04 6.37521496e-04 6.60805604e-04 6.84871487e-04\n",
      " 7.09742705e-04 7.35443430e-04 7.61998457e-04 7.89433213e-04\n",
      " 8.17773777e-04 8.47046885e-04 8.77279948e-04 9.08501063e-04\n",
      " 9.40739024e-04 9.74023340e-04 1.00838424e-03 1.04385271e-03\n",
      " 1.08046046e-03 1.11823998e-03 1.15722454e-03 1.19744822e-03\n",
      " 1.23894586e-03 1.28175318e-03 1.32590668e-03 1.37144374e-03\n",
      " 1.41840261e-03 1.46682238e-03 1.51674306e-03 1.56820557e-03\n",
      " 1.62125172e-03 1.67592427e-03 1.73226693e-03 1.79032436e-03\n",
      " 1.85014222e-03 1.91176712e-03 1.97524671e-03 2.04062963e-03\n",
      " 2.10796558e-03 2.17730527e-03 2.24870050e-03 2.32220413e-03\n",
      " 2.39787011e-03 2.47575348e-03 2.55591040e-03 2.63839816e-03\n",
      " 2.72327519e-03 2.81060107e-03 2.90043655e-03 2.99284354e-03\n",
      " 3.08788517e-03 3.18562576e-03 3.28613083e-03 3.38946715e-03\n",
      " 3.49570271e-03 3.60490678e-03 3.71714984e-03 3.83250369e-03\n",
      " 3.95104138e-03 4.07283728e-03 4.19796703e-03 4.32650760e-03\n",
      " 4.45853728e-03 4.59413568e-03 4.73338375e-03 4.87636379e-03\n",
      " 5.02315943e-03 5.17385570e-03 5.32853895e-03 5.48729692e-03\n",
      " 5.65021873e-03 5.81739487e-03 5.98891723e-03 6.16487906e-03\n",
      " 6.34537503e-03 6.53050119e-03 6.72035498e-03 6.91503526e-03\n",
      " 7.11464225e-03 7.31927759e-03 7.52904433e-03 7.74404687e-03\n",
      " 7.96439105e-03 8.19018406e-03 8.42153448e-03 8.65855230e-03\n",
      " 8.90134884e-03 9.15003682e-03 9.40473029e-03 9.66554468e-03\n",
      " 9.93259675e-03 1.02060046e-02 1.04858876e-02 1.07723664e-02\n",
      " 1.10655632e-02 1.13656012e-02 1.16726049e-02 1.19867001e-02\n",
      " 1.23080140e-02 1.26366746e-02 1.29728116e-02 1.33165554e-02\n",
      " 1.36680379e-02 1.40273919e-02 1.43947515e-02 1.47702517e-02\n",
      " 1.51540287e-02 1.55462195e-02 1.59469624e-02 1.63563965e-02\n",
      " 1.67746618e-02 1.72018992e-02 1.76382506e-02 1.80838585e-02\n",
      " 1.85388665e-02 1.90034187e-02 1.94776600e-02 1.99617360e-02\n",
      " 2.04557929e-02 2.09599775e-02 2.14744372e-02 2.19993198e-02\n",
      " 2.25347735e-02 2.30809471e-02 2.36379896e-02 2.42060504e-02\n",
      " 2.47852791e-02 2.53758253e-02 2.59778391e-02 2.65914704e-02\n",
      " 2.72168692e-02 2.78541855e-02 2.85035691e-02 2.91651697e-02\n",
      " 2.98391368e-02 3.05256195e-02 3.12247667e-02 3.19367266e-02\n",
      " 3.26616471e-02 3.33996755e-02 3.41509585e-02 3.49156418e-02\n",
      " 3.56938707e-02 3.64857893e-02 3.72915409e-02 3.81112678e-02\n",
      " 3.89451110e-02 3.97932106e-02 4.06557052e-02 4.15327320e-02\n",
      " 4.24244269e-02 4.33309242e-02 4.42523567e-02 4.51888553e-02\n",
      " 4.61405491e-02 4.71075656e-02 4.80900299e-02 4.90880655e-02\n",
      " 5.01017932e-02 5.11313321e-02 5.21767985e-02 5.32383064e-02\n",
      " 5.43159674e-02 5.54098903e-02 5.65201811e-02 5.76469432e-02\n",
      " 5.87902768e-02 5.99502792e-02 6.11270446e-02 6.23206639e-02\n",
      " 6.35312247e-02 6.47588111e-02 6.60035037e-02 6.72653795e-02\n",
      " 6.85445117e-02 6.98409697e-02 7.11548190e-02 7.24861209e-02\n",
      " 7.38349328e-02 7.52013075e-02 7.65852939e-02 7.79869361e-02\n",
      " 7.94062739e-02 8.08433422e-02 8.22981714e-02 8.37707869e-02\n",
      " 8.52612093e-02 8.67694540e-02 8.82955314e-02 8.98394467e-02\n",
      " 9.14011996e-02 9.29807846e-02 9.45781905e-02 9.61934008e-02\n",
      " 9.78263929e-02 9.94771388e-02 1.01145604e-01 1.02831750e-01\n",
      " 1.04535529e-01 1.06256890e-01 1.07995775e-01 1.09752118e-01\n",
      " 1.11525850e-01 1.13316892e-01 1.15125161e-01 1.16950567e-01\n",
      " 1.18793013e-01 1.20652394e-01 1.22528601e-01 1.24421517e-01\n",
      " 1.26331016e-01 1.28256969e-01 1.30199236e-01 1.32157674e-01\n",
      " 1.34132129e-01 1.36122443e-01 1.38128449e-01 1.40149973e-01\n",
      " 1.42186834e-01 1.44238845e-01 1.46305809e-01 1.48387524e-01\n",
      " 1.50483779e-01 1.52594357e-01 1.54719033e-01 1.56857574e-01\n",
      " 1.59009741e-01 1.61175286e-01 1.63353954e-01 1.65545484e-01\n",
      " 1.67749605e-01 1.69966042e-01 1.72194509e-01 1.74434714e-01\n",
      " 1.76686359e-01 1.78949137e-01 1.81222735e-01 1.83506831e-01\n",
      " 1.85801097e-01 1.88105197e-01 1.90418790e-01 1.92741524e-01\n",
      " 1.95073045e-01 1.97412986e-01 1.99760979e-01 2.02116645e-01\n",
      " 2.04479600e-01 2.06849454e-01 2.09225807e-01 2.11608257e-01\n",
      " 2.13996392e-01 2.16389795e-01 2.18788043e-01 2.21190706e-01\n",
      " 2.23597349e-01 2.26007530e-01 2.28420802e-01 2.30836711e-01\n",
      " 2.33254798e-01 2.35674601e-01 2.38095648e-01 2.40517464e-01\n",
      " 2.42939571e-01 2.45361483e-01 2.47782710e-01 2.50202758e-01\n",
      " 2.52621129e-01 2.55037318e-01 2.57450819e-01 2.59861120e-01\n",
      " 2.62267707e-01 2.64670059e-01 2.67067655e-01 2.69459970e-01\n",
      " 2.71846473e-01 2.74226634e-01 2.76599918e-01 2.78965787e-01\n",
      " 2.81323703e-01 2.83673123e-01 2.86013503e-01 2.88344299e-01\n",
      " 2.90664962e-01 2.92974946e-01 2.95273699e-01 2.97560671e-01\n",
      " 2.99835312e-01 3.02097069e-01 3.04345390e-01 3.06579724e-01\n",
      " 3.08799517e-01 3.11004218e-01 3.13193276e-01 3.15366141e-01\n",
      " 3.17522263e-01 3.19661095e-01 3.21782090e-01 3.23884702e-01\n",
      " 3.25968391e-01 3.28032613e-01 3.30076832e-01 3.32100512e-01\n",
      " 3.34103120e-01 3.36084127e-01 3.38043006e-01 3.39979235e-01\n",
      " 3.41892294e-01 3.43781670e-01 3.45646851e-01 3.47487331e-01\n",
      " 3.49302609e-01 3.51092190e-01 3.52855580e-01 3.54592296e-01\n",
      " 3.56301856e-01 3.57983786e-01 3.59637619e-01 3.61262891e-01\n",
      " 3.62859148e-01 3.64425940e-01 3.65962827e-01 3.67469372e-01\n",
      " 3.68945149e-01 3.70389738e-01 3.71802727e-01 3.73183711e-01\n",
      " 3.74532294e-01 3.75848089e-01 3.77130715e-01 3.78379803e-01\n",
      " 3.79594991e-01 3.80775926e-01 3.81922264e-01 3.83033671e-01\n",
      " 3.84109822e-01 3.85150403e-01 3.86155108e-01 3.87123642e-01\n",
      " 3.88055720e-01 3.88951067e-01 3.89809419e-01 3.90630522e-01\n",
      " 3.91414133e-01 3.92160019e-01 3.92867960e-01 3.93537743e-01\n",
      " 3.94169171e-01 3.94762054e-01 3.95316217e-01 3.95831493e-01\n",
      " 3.96307728e-01 3.96744781e-01 3.97142519e-01 3.97500825e-01\n",
      " 3.97819591e-01 3.98098720e-01 3.98338130e-01 3.98537748e-01\n",
      " 3.98697514e-01 3.98817381e-01 3.98897312e-01 3.98937284e-01\n",
      " 3.98937284e-01 3.98897312e-01 3.98817381e-01 3.98697514e-01\n",
      " 3.98537748e-01 3.98338130e-01 3.98098720e-01 3.97819591e-01\n",
      " 3.97500825e-01 3.97142519e-01 3.96744781e-01 3.96307728e-01\n",
      " 3.95831493e-01 3.95316217e-01 3.94762054e-01 3.94169171e-01\n",
      " 3.93537743e-01 3.92867960e-01 3.92160019e-01 3.91414133e-01\n",
      " 3.90630522e-01 3.89809419e-01 3.88951067e-01 3.88055720e-01\n",
      " 3.87123642e-01 3.86155108e-01 3.85150403e-01 3.84109822e-01\n",
      " 3.83033671e-01 3.81922264e-01 3.80775926e-01 3.79594991e-01\n",
      " 3.78379803e-01 3.77130715e-01 3.75848089e-01 3.74532294e-01\n",
      " 3.73183711e-01 3.71802727e-01 3.70389738e-01 3.68945149e-01\n",
      " 3.67469372e-01 3.65962827e-01 3.64425940e-01 3.62859148e-01\n",
      " 3.61262891e-01 3.59637619e-01 3.57983786e-01 3.56301856e-01\n",
      " 3.54592296e-01 3.52855580e-01 3.51092190e-01 3.49302609e-01\n",
      " 3.47487331e-01 3.45646851e-01 3.43781670e-01 3.41892294e-01\n",
      " 3.39979235e-01 3.38043006e-01 3.36084127e-01 3.34103120e-01\n",
      " 3.32100512e-01 3.30076832e-01 3.28032613e-01 3.25968391e-01\n",
      " 3.23884702e-01 3.21782090e-01 3.19661095e-01 3.17522263e-01\n",
      " 3.15366141e-01 3.13193276e-01 3.11004218e-01 3.08799517e-01\n",
      " 3.06579724e-01 3.04345390e-01 3.02097069e-01 2.99835312e-01\n",
      " 2.97560671e-01 2.95273699e-01 2.92974946e-01 2.90664962e-01\n",
      " 2.88344299e-01 2.86013503e-01 2.83673123e-01 2.81323703e-01\n",
      " 2.78965787e-01 2.76599918e-01 2.74226634e-01 2.71846473e-01\n",
      " 2.69459970e-01 2.67067655e-01 2.64670059e-01 2.62267707e-01\n",
      " 2.59861120e-01 2.57450819e-01 2.55037318e-01 2.52621129e-01\n",
      " 2.50202758e-01 2.47782710e-01 2.45361483e-01 2.42939571e-01\n",
      " 2.40517464e-01 2.38095648e-01 2.35674601e-01 2.33254798e-01\n",
      " 2.30836711e-01 2.28420802e-01 2.26007530e-01 2.23597349e-01\n",
      " 2.21190706e-01 2.18788043e-01 2.16389795e-01 2.13996392e-01\n",
      " 2.11608257e-01 2.09225807e-01 2.06849454e-01 2.04479600e-01\n",
      " 2.02116645e-01 1.99760979e-01 1.97412986e-01 1.95073045e-01\n",
      " 1.92741524e-01 1.90418790e-01 1.88105197e-01 1.85801097e-01\n",
      " 1.83506831e-01 1.81222735e-01 1.78949137e-01 1.76686359e-01\n",
      " 1.74434714e-01 1.72194509e-01 1.69966042e-01 1.67749605e-01\n",
      " 1.65545484e-01 1.63353954e-01 1.61175286e-01 1.59009741e-01\n",
      " 1.56857574e-01 1.54719033e-01 1.52594357e-01 1.50483779e-01\n",
      " 1.48387524e-01 1.46305809e-01 1.44238845e-01 1.42186834e-01\n",
      " 1.40149973e-01 1.38128449e-01 1.36122443e-01 1.34132129e-01\n",
      " 1.32157674e-01 1.30199236e-01 1.28256969e-01 1.26331016e-01\n",
      " 1.24421517e-01 1.22528601e-01 1.20652394e-01 1.18793013e-01\n",
      " 1.16950567e-01 1.15125161e-01 1.13316892e-01 1.11525850e-01\n",
      " 1.09752118e-01 1.07995775e-01 1.06256890e-01 1.04535529e-01\n",
      " 1.02831750e-01 1.01145604e-01 9.94771388e-02 9.78263929e-02\n",
      " 9.61934008e-02 9.45781905e-02 9.29807846e-02 9.14011996e-02\n",
      " 8.98394467e-02 8.82955314e-02 8.67694540e-02 8.52612093e-02\n",
      " 8.37707869e-02 8.22981714e-02 8.08433422e-02 7.94062739e-02\n",
      " 7.79869361e-02 7.65852939e-02 7.52013075e-02 7.38349328e-02\n",
      " 7.24861209e-02 7.11548190e-02 6.98409697e-02 6.85445117e-02\n",
      " 6.72653795e-02 6.60035037e-02 6.47588111e-02 6.35312247e-02\n",
      " 6.23206639e-02 6.11270446e-02 5.99502792e-02 5.87902768e-02\n",
      " 5.76469432e-02 5.65201811e-02 5.54098903e-02 5.43159674e-02\n",
      " 5.32383064e-02 5.21767985e-02 5.11313321e-02 5.01017932e-02\n",
      " 4.90880655e-02 4.80900299e-02 4.71075656e-02 4.61405491e-02\n",
      " 4.51888553e-02 4.42523567e-02 4.33309242e-02 4.24244269e-02\n",
      " 4.15327320e-02 4.06557052e-02 3.97932106e-02 3.89451110e-02\n",
      " 3.81112678e-02 3.72915409e-02 3.64857893e-02 3.56938707e-02\n",
      " 3.49156418e-02 3.41509585e-02 3.33996755e-02 3.26616471e-02\n",
      " 3.19367266e-02 3.12247667e-02 3.05256195e-02 2.98391368e-02\n",
      " 2.91651697e-02 2.85035691e-02 2.78541855e-02 2.72168692e-02\n",
      " 2.65914704e-02 2.59778391e-02 2.53758253e-02 2.47852791e-02\n",
      " 2.42060504e-02 2.36379896e-02 2.30809471e-02 2.25347735e-02\n",
      " 2.19993198e-02 2.14744372e-02 2.09599775e-02 2.04557929e-02\n",
      " 1.99617360e-02 1.94776600e-02 1.90034187e-02 1.85388665e-02\n",
      " 1.80838585e-02 1.76382506e-02 1.72018992e-02 1.67746618e-02\n",
      " 1.63563965e-02 1.59469624e-02 1.55462195e-02 1.51540287e-02\n",
      " 1.47702517e-02 1.43947515e-02 1.40273919e-02 1.36680379e-02\n",
      " 1.33165554e-02 1.29728116e-02 1.26366746e-02 1.23080140e-02\n",
      " 1.19867001e-02 1.16726049e-02 1.13656012e-02 1.10655632e-02\n",
      " 1.07723664e-02 1.04858876e-02 1.02060046e-02 9.93259675e-03\n",
      " 9.66554468e-03 9.40473029e-03 9.15003682e-03 8.90134884e-03\n",
      " 8.65855230e-03 8.42153448e-03 8.19018406e-03 7.96439105e-03\n",
      " 7.74404687e-03 7.52904433e-03 7.31927759e-03 7.11464225e-03\n",
      " 6.91503526e-03 6.72035498e-03 6.53050119e-03 6.34537503e-03\n",
      " 6.16487906e-03 5.98891723e-03 5.81739487e-03 5.65021873e-03\n",
      " 5.48729692e-03 5.32853895e-03 5.17385570e-03 5.02315943e-03\n",
      " 4.87636379e-03 4.73338375e-03 4.59413568e-03 4.45853728e-03\n",
      " 4.32650760e-03 4.19796703e-03 4.07283728e-03 3.95104138e-03\n",
      " 3.83250369e-03 3.71714984e-03 3.60490678e-03 3.49570271e-03\n",
      " 3.38946715e-03 3.28613083e-03 3.18562576e-03 3.08788517e-03\n",
      " 2.99284354e-03 2.90043655e-03 2.81060107e-03 2.72327519e-03\n",
      " 2.63839816e-03 2.55591040e-03 2.47575348e-03 2.39787011e-03\n",
      " 2.32220413e-03 2.24870050e-03 2.17730527e-03 2.10796558e-03\n",
      " 2.04062963e-03 1.97524671e-03 1.91176712e-03 1.85014222e-03\n",
      " 1.79032436e-03 1.73226693e-03 1.67592427e-03 1.62125172e-03\n",
      " 1.56820557e-03 1.51674306e-03 1.46682238e-03 1.41840261e-03\n",
      " 1.37144374e-03 1.32590668e-03 1.28175318e-03 1.23894586e-03\n",
      " 1.19744822e-03 1.15722454e-03 1.11823998e-03 1.08046046e-03\n",
      " 1.04385271e-03 1.00838424e-03 9.74023340e-04 9.40739024e-04\n",
      " 9.08501063e-04 8.77279948e-04 8.47046885e-04 8.17773777e-04\n",
      " 7.89433213e-04 7.61998457e-04 7.35443430e-04 7.09742705e-04\n",
      " 6.84871487e-04 6.60805604e-04 6.37521496e-04 6.14996199e-04\n",
      " 5.93207338e-04 5.72133108e-04 5.51752272e-04 5.32044139e-04\n",
      " 5.12988560e-04 4.94565913e-04 4.76757094e-04 4.59543504e-04\n",
      " 4.42907039e-04 4.26830079e-04 4.11295478e-04 3.96286554e-04\n",
      " 3.81787075e-04 3.67781255e-04 3.54253739e-04 3.41189596e-04\n",
      " 3.28574305e-04 3.16393754e-04 3.04634221e-04 2.93282371e-04\n",
      " 2.82325244e-04 2.71750248e-04 2.61545150e-04 2.51698064e-04\n",
      " 2.42197448e-04 2.33032092e-04 2.24191111e-04 2.15663936e-04\n",
      " 2.07440309e-04 1.99510270e-04 1.91864155e-04 1.84492586e-04\n",
      " 1.77386463e-04 1.70536959e-04 1.63935511e-04 1.57573813e-04\n",
      " 1.51443813e-04 1.45537701e-04 1.39847906e-04 1.34367089e-04\n",
      " 1.29088138e-04 1.24004157e-04 1.19108467e-04 1.14394597e-04\n",
      " 1.09856275e-04 1.05487430e-04 1.01282180e-04 9.72348278e-05\n",
      " 9.33398595e-05 8.95919357e-05 8.59858880e-05 8.25167139e-05\n",
      " 7.91795725e-05 7.59697791e-05 7.28828016e-05 6.99142555e-05\n",
      " 6.70598996e-05 6.43156324e-05 6.16774875e-05 5.91416295e-05\n",
      " 5.67043508e-05 5.43620671e-05 5.21113142e-05 4.99487441e-05\n",
      " 4.78711216e-05 4.58753211e-05 4.39583229e-05 4.21172102e-05\n",
      " 4.03491658e-05 3.86514694e-05 3.70214940e-05 3.54567035e-05\n",
      " 3.39546498e-05 3.25129696e-05 3.11293824e-05 2.98016873e-05\n",
      " 2.85277610e-05 2.73055547e-05 2.61330924e-05 2.50084680e-05\n",
      " 2.39298433e-05 2.28954459e-05 2.19035668e-05 2.09525584e-05\n",
      " 2.00408326e-05 1.91668589e-05 1.83291622e-05 1.75263212e-05\n",
      " 1.67569666e-05 1.60197791e-05 1.53134881e-05 1.46368699e-05\n",
      " 1.39887459e-05 1.33679815e-05 1.27734842e-05 1.22042022e-05\n",
      " 1.16591234e-05 1.11372736e-05 1.06377152e-05 1.01595463e-05\n",
      " 9.70189908e-06 9.26393876e-06 8.84486240e-06 8.44389784e-06\n",
      " 8.06030255e-06 7.69336257e-06 7.34239154e-06 7.00672970e-06\n",
      " 6.68574289e-06 6.37882168e-06 6.08538047e-06 5.80485658e-06\n",
      " 5.53670947e-06 5.28041992e-06 5.03548920e-06 4.80143840e-06\n",
      " 4.57780761e-06 4.36415530e-06 4.16005756e-06 3.96510749e-06\n",
      " 3.77891458e-06 3.60110404e-06 3.43131624e-06 3.26920615e-06\n",
      " 3.11444274e-06 2.96670852e-06 2.82569895e-06 2.69112199e-06\n",
      " 2.56269761e-06 2.44015731e-06 2.32324372e-06 2.21171010e-06\n",
      " 2.10531999e-06 2.00384677e-06 1.90707332e-06 1.81479157e-06\n",
      " 1.72680223e-06 1.64291438e-06 1.56294518e-06 1.48671951e-06]\n"
     ]
    }
   ],
   "source": [
    "import numpy as np\n",
    "import matplotlib.pyplot as plt\n",
    "from scipy.stats import norm\n",
    "\n",
    "def PDF():\n",
    "# Parameters of the normal distribution\n",
    "    mu = 0    # mean\n",
    "    sigma = 1 # standard deviation\n",
    "\n",
    "# Generate data points for x-axis\n",
    "    x = np.linspace(-5, 5, 1000)  # range of x values for continuous intervals\n",
    "\n",
    "# Compute the PDF of the normal distribution\n",
    "    pdf = norm.pdf(x, mu, sigma)\n",
    "    print(\"The pdf of the data is : \" , pdf)\n",
    "\n",
    "PDF()\n",
    "    "
   ]
  },
  {
   "cell_type": "code",
   "execution_count": 40,
   "id": "645c1952-3e4d-406d-88f7-042fcaad5b2a",
   "metadata": {},
   "outputs": [
    {
     "data": {
      "text/plain": [
       "array([0.04101383, 0.0323171 , 0.02659699, 0.05065161, 0.01545797,\n",
       "       0.05991729, 0.07210095, 0.05615824, 0.00488204, 0.03334889,\n",
       "       0.02551465, 0.07372637, 0.04521359, 0.04503982, 0.00525122,\n",
       "       0.02838983, 0.07494885, 0.01936905, 0.05176096, 0.07481164,\n",
       "       0.07477915, 0.06793409, 0.07275729, 0.04883088, 0.07407907,\n",
       "       0.07131081, 0.05735573, 0.03939786, 0.05496601, 0.07599901,\n",
       "       0.07130125, 0.07600913, 0.07054535, 0.07591086, 0.02923846,\n",
       "       0.07569188, 0.07613816, 0.06079907, 0.07018041, 0.06750247,\n",
       "       0.05695384, 0.07084583, 0.03119585, 0.0573832 , 0.03326952,\n",
       "       0.05839195, 0.04880856, 0.05926214, 0.05813053, 0.06373915,\n",
       "       0.04492204, 0.04095297, 0.01564723, 0.04110746, 0.05437531,\n",
       "       0.07111135, 0.00237342, 0.05626727, 0.06108672, 0.0758295 ,\n",
       "       0.06517534, 0.07614882, 0.05980032, 0.06652687, 0.07399857,\n",
       "       0.06565823, 0.04329449, 0.04361397, 0.07477225, 0.06123564,\n",
       "       0.05879708, 0.04671918, 0.07615532, 0.04442152, 0.07615325,\n",
       "       0.06924714, 0.04344842, 0.07012404, 0.01451283, 0.07601684,\n",
       "       0.03328729, 0.02919435, 0.00496412, 0.07555818, 0.06421562,\n",
       "       0.07120796, 0.0681523 , 0.0287958 , 0.04476848, 0.06855054,\n",
       "       0.03670979, 0.01310145, 0.07601294, 0.0668195 , 0.0755984 ,\n",
       "       0.06487973, 0.00470685, 0.06506472, 0.00523606, 0.07171798,\n",
       "       0.01405866, 0.06602853, 0.07025946, 0.06997731, 0.017927  ,\n",
       "       0.0333316 , 0.01325143, 0.0615724 , 0.0040149 , 0.07184887,\n",
       "       0.05897718, 0.0761122 , 0.05275082, 0.05698336, 0.02070747,\n",
       "       0.06803099, 0.06618393, 0.06457811, 0.07088194, 0.07615266,\n",
       "       0.07349854, 0.06924336, 0.05596045, 0.03737048, 0.07078041,\n",
       "       0.05039058, 0.00112889, 0.07584033, 0.07344165, 0.04492356,\n",
       "       0.05144864, 0.04257213, 0.02525209, 0.07613662, 0.05841965,\n",
       "       0.06750213, 0.06559215, 0.01959298, 0.02093412, 0.07585561,\n",
       "       0.046926  , 0.02169788, 0.03830136, 0.01053548, 0.02138083,\n",
       "       0.05668244, 0.02295734, 0.07369849, 0.06904637, 0.01576913,\n",
       "       0.02978578, 0.07280484, 0.07000789, 0.04148098, 0.05838386,\n",
       "       0.06389901, 0.02905173, 0.06268172, 0.06638088, 0.05193234,\n",
       "       0.06096983, 0.05245373, 0.05259282, 0.07472572, 0.07034921,\n",
       "       0.02372792, 0.05138086, 0.03806359, 0.0741909 , 0.07613254,\n",
       "       0.07371785, 0.05943062, 0.00125398, 0.07575871, 0.05465807,\n",
       "       0.04048321, 0.05606379, 0.04578511, 0.0258029 , 0.07593472,\n",
       "       0.06734209, 0.04560183, 0.07524461, 0.05509641, 0.04772576,\n",
       "       0.07594401, 0.07609664, 0.0505561 , 0.06915885, 0.04015838,\n",
       "       0.05893246, 0.07132438, 0.05040712, 0.0756404 , 0.0723949 ,\n",
       "       0.03000021, 0.03914831, 0.06775028, 0.01517754, 0.06862375,\n",
       "       0.04576079, 0.06767564, 0.02171403, 0.06804392, 0.07593176,\n",
       "       0.07520761, 0.03566124, 0.06799094, 0.01874158, 0.07029324,\n",
       "       0.06373755, 0.0717767 , 0.05491959, 0.04812483, 0.07199429,\n",
       "       0.06766442, 0.06940692, 0.04797861, 0.04705193, 0.06236626,\n",
       "       0.02152864, 0.05563749, 0.07539283, 0.0618399 , 0.02312023,\n",
       "       0.0731161 , 0.00465727, 0.02530252, 0.07614166, 0.04165105,\n",
       "       0.06270299, 0.05182446, 0.0720458 , 0.07532783, 0.0454095 ,\n",
       "       0.0744093 , 0.05663048, 0.04370907, 0.07429374, 0.07056912,\n",
       "       0.07494266, 0.0648367 , 0.06416283, 0.04872493, 0.00850692,\n",
       "       0.01952257, 0.05702658, 0.06482113, 0.05264598, 0.06968197,\n",
       "       0.07298832, 0.04153653, 0.05944078, 0.05497186, 0.06019526,\n",
       "       0.05775972, 0.03243022, 0.06417535, 0.04264252, 0.06939283,\n",
       "       0.07342861, 0.07579739, 0.07607115, 0.04192668, 0.0545804 ,\n",
       "       0.02919456, 0.07218776, 0.05951   , 0.07319346, 0.04661192,\n",
       "       0.07614886, 0.01171358, 0.01251447, 0.03304544, 0.06947918,\n",
       "       0.0675554 , 0.06223148, 0.07615559, 0.03582678, 0.06768064,\n",
       "       0.06935059, 0.06019988, 0.06141026, 0.04970183, 0.07375336,\n",
       "       0.07612502, 0.00847467, 0.07615367, 0.03129617, 0.07544699,\n",
       "       0.07613182, 0.02110831, 0.06967228, 0.06404543, 0.02147987,\n",
       "       0.04131092, 0.06064398, 0.07610814, 0.06994242, 0.07389365,\n",
       "       0.02611739, 0.05974119, 0.06955674, 0.07498677, 0.04496828,\n",
       "       0.05687547, 0.07321894, 0.0461782 , 0.02959094, 0.04031113,\n",
       "       0.07614808, 0.07488473, 0.01730475, 0.05024171, 0.07561914,\n",
       "       0.06938106, 0.07611593, 0.06099948, 0.06233658, 0.07321271,\n",
       "       0.01550111, 0.06577464, 0.07164651, 0.07180916, 0.06561222,\n",
       "       0.00559341, 0.0702274 , 0.06656025, 0.05813463, 0.0591479 ,\n",
       "       0.07186797, 0.03062693, 0.05557775, 0.02593368, 0.07248118,\n",
       "       0.00417289, 0.07003105, 0.07578916, 0.07594066, 0.06918062,\n",
       "       0.02543548, 0.06989775, 0.04349832, 0.07375121, 0.04601324,\n",
       "       0.05653816, 0.00557993, 0.02332051, 0.03975023, 0.05371952,\n",
       "       0.06215357, 0.06993365, 0.01109743, 0.07296561, 0.05139255,\n",
       "       0.0656121 , 0.05296436, 0.07268773, 0.03115557, 0.07407838,\n",
       "       0.07546922, 0.07343616, 0.03596847, 0.06570905, 0.01471964,\n",
       "       0.07271993, 0.01715378, 0.07513984, 0.07525504, 0.03443393,\n",
       "       0.00121747, 0.06855513, 0.07613234, 0.02254679, 0.07614811,\n",
       "       0.07542593, 0.06633135, 0.03077153, 0.07535817, 0.07353832,\n",
       "       0.04554256, 0.04586963, 0.07362613, 0.07332038, 0.04692605,\n",
       "       0.05762481, 0.06932117, 0.07555612, 0.00521742, 0.03275438,\n",
       "       0.04803312, 0.04357457, 0.03952988, 0.07615029, 0.06934062,\n",
       "       0.04901278, 0.07446979, 0.04896068, 0.02180649, 0.02630525,\n",
       "       0.03441516, 0.06555163, 0.01059974, 0.06920314, 0.00863335,\n",
       "       0.07599439, 0.07470897, 0.06133325, 0.0761007 , 0.06141658,\n",
       "       0.05502781, 0.07592832, 0.07354788, 0.06725877, 0.06929134,\n",
       "       0.00579917, 0.04786827, 0.06252949, 0.04793533, 0.0125395 ,\n",
       "       0.03575587, 0.07615487, 0.04642566, 0.01205648, 0.04157298,\n",
       "       0.05194765, 0.05821749, 0.04639831, 0.03489149, 0.07514136,\n",
       "       0.07367546, 0.07602873, 0.01413786, 0.01219803, 0.07583563,\n",
       "       0.05551181, 0.07606963, 0.00930353, 0.00767005, 0.07569449,\n",
       "       0.07564489, 0.07578208, 0.07302805, 0.03636816, 0.06989242,\n",
       "       0.07499205, 0.07344078, 0.00977324, 0.03374122, 0.01429878,\n",
       "       0.07608281, 0.072485  , 0.03734753, 0.04921036, 0.03798734,\n",
       "       0.01644812, 0.00486852, 0.03617724, 0.04809706, 0.07535611,\n",
       "       0.04879883, 0.05753394, 0.03071946, 0.07531966, 0.04782365,\n",
       "       0.02079388, 0.07614193, 0.05931324, 0.02314424, 0.04562987,\n",
       "       0.05169762, 0.04771942, 0.05297504, 0.05450252, 0.06483393,\n",
       "       0.07210646, 0.07071114, 0.06315144, 0.07611159, 0.01721333,\n",
       "       0.07524669, 0.07078063, 0.07100121, 0.05062394, 0.04406493,\n",
       "       0.00152841, 0.02552942, 0.07598894, 0.07101056, 0.00690097,\n",
       "       0.01853226, 0.0680041 , 0.06491648, 0.07503929, 0.06001582,\n",
       "       0.06828673, 0.04688939, 0.0615979 , 0.07607534, 0.05079777,\n",
       "       0.06547859, 0.07578649, 0.07472494, 0.07286739, 0.07337113,\n",
       "       0.0680854 , 0.07281888, 0.0709374 , 0.01715486, 0.05081127,\n",
       "       0.07276162, 0.0199467 , 0.07164603, 0.06448296, 0.03620818,\n",
       "       0.06948526, 0.07540624, 0.07366278, 0.07385363, 0.0542639 ,\n",
       "       0.07372872, 0.02033382, 0.02113014, 0.03057553, 0.03442123,\n",
       "       0.04754167, 0.07540453, 0.06298556, 0.02289733, 0.04342239,\n",
       "       0.05946371, 0.01321457, 0.06391608, 0.05147351, 0.04731916,\n",
       "       0.04385939, 0.07506028, 0.06298531, 0.02415705, 0.07591749,\n",
       "       0.00683783, 0.02719298, 0.06752696, 0.02843244, 0.06762344,\n",
       "       0.03121937, 0.06975649, 0.07072809, 0.06496533, 0.06787205,\n",
       "       0.07615013, 0.00084122, 0.07358158, 0.0346425 , 0.03905821,\n",
       "       0.05958348, 0.02573019, 0.05105052, 0.04400313, 0.07186465,\n",
       "       0.0448483 , 0.07572795, 0.04737341, 0.07587078, 0.06660116,\n",
       "       0.0612377 , 0.06156287, 0.0252574 , 0.03956054, 0.0682825 ,\n",
       "       0.03722669, 0.04892959, 0.06059638, 0.07362553, 0.03625611,\n",
       "       0.03897772, 0.04957731, 0.05929977, 0.07406866, 0.07515877,\n",
       "       0.0253088 , 0.00838128, 0.06113561, 0.07391252, 0.02408598,\n",
       "       0.06738568, 0.02599042, 0.06382689, 0.07194928, 0.07517465,\n",
       "       0.02323571, 0.03061768, 0.04963984, 0.06399068, 0.04379574,\n",
       "       0.07433535, 0.0474701 , 0.07401797, 0.0645506 , 0.0243595 ,\n",
       "       0.05549399, 0.07301543, 0.07604076, 0.03888804, 0.07409974,\n",
       "       0.00446176, 0.018944  , 0.07108299, 0.06780428, 0.04365404,\n",
       "       0.02107532, 0.07615534, 0.06077367, 0.03303241, 0.0719746 ,\n",
       "       0.00738065, 0.06093175, 0.05538369, 0.06627069, 0.07037452,\n",
       "       0.07428826, 0.0228039 , 0.03907762, 0.06736396, 0.04995273,\n",
       "       0.07384759, 0.07550491, 0.07590731, 0.07558365, 0.07404129,\n",
       "       0.05127973, 0.0507506 , 0.06909618, 0.06700172, 0.05170265,\n",
       "       0.02000699, 0.07567763, 0.06637548, 0.06768403, 0.03197409,\n",
       "       0.06192341, 0.03070188, 0.07017665, 0.06286411, 0.06181134,\n",
       "       0.06310033, 0.05685202, 0.05063238, 0.06858586, 0.0002135 ,\n",
       "       0.07275097, 0.06897579, 0.0384378 , 0.0517572 , 0.05478694,\n",
       "       0.00297556, 0.01630469, 0.0318934 , 0.07186776, 0.07030372,\n",
       "       0.07218796, 0.06832241, 0.011314  , 0.04749698, 0.07297106,\n",
       "       0.07485931, 0.02435013, 0.02987982, 0.07480115, 0.00453466,\n",
       "       0.07222448, 0.07410124, 0.0761373 , 0.07226768, 0.074845  ,\n",
       "       0.04058517, 0.04120899, 0.07603627, 0.07544547, 0.04950385,\n",
       "       0.02271279, 0.07477797, 0.07326997, 0.04257513, 0.06908386,\n",
       "       0.03126279, 0.07404451, 0.07378988, 0.06237358, 0.03630329,\n",
       "       0.02458687, 0.0737021 , 0.04279696, 0.01687501, 0.0209034 ,\n",
       "       0.06733265, 0.07260779, 0.05130726, 0.0669013 , 0.051269  ,\n",
       "       0.02050519, 0.0526361 , 0.07274296, 0.00973824, 0.07104394,\n",
       "       0.07468219, 0.0589102 , 0.05227683, 0.07565861, 0.06004244,\n",
       "       0.06682608, 0.03240728, 0.034448  , 0.04785346, 0.04037586,\n",
       "       0.02611746, 0.07216763, 0.02554957, 0.07550506, 0.07305445,\n",
       "       0.07495458, 0.07599786, 0.07580949, 0.05939681, 0.0684341 ,\n",
       "       0.05087504, 0.07188393, 0.03900064, 0.05907329, 0.06288019,\n",
       "       0.07614917, 0.07603529, 0.07615502, 0.07424181, 0.06852845,\n",
       "       0.04947556, 0.02901937, 0.04707891, 0.0576095 , 0.01274526,\n",
       "       0.04357466, 0.07245556, 0.01788771, 0.07584157, 0.07161825,\n",
       "       0.02150516, 0.06918697, 0.0183978 , 0.07582105, 0.0489163 ,\n",
       "       0.07150468, 0.07500861, 0.06064038, 0.07313364, 0.02481619,\n",
       "       0.04676506, 0.07062039, 0.02184733, 0.07352048, 0.05423297,\n",
       "       0.07496231, 0.00424526, 0.01973446, 0.07456101, 0.07595657,\n",
       "       0.04054115, 0.04978001, 0.05217662, 0.04526863, 0.02032518,\n",
       "       0.06335253, 0.00129313, 0.07413691, 0.06832897, 0.05811859,\n",
       "       0.05374762, 0.03259986, 0.02079901, 0.02958352, 0.05171611,\n",
       "       0.07523881, 0.01226324, 0.07570142, 0.01293783, 0.07467401,\n",
       "       0.07474929, 0.01452551, 0.05195346, 0.05814127, 0.04075989,\n",
       "       0.06563145, 0.04407478, 0.02544765, 0.04968993, 0.05319555,\n",
       "       0.05305541, 0.03443084, 0.04352639, 0.07223874, 0.06681249,\n",
       "       0.01531082, 0.02162746, 0.064624  , 0.07582706, 0.05795546,\n",
       "       0.02566554, 0.05502287, 0.05832425, 0.05242287, 0.03708229,\n",
       "       0.0706519 , 0.01451872, 0.04114864, 0.05412742, 0.0326879 ,\n",
       "       0.02122491, 0.06680383, 0.04846832, 0.07615562, 0.05262964,\n",
       "       0.07480684, 0.07029143, 0.02618889, 0.07610456, 0.06692537,\n",
       "       0.03689658, 0.07581776, 0.02484406, 0.00221246, 0.05234781,\n",
       "       0.07220578, 0.0671017 , 0.06164068, 0.07611858, 0.0245243 ,\n",
       "       0.05847623, 0.04987921, 0.03472132, 0.0758009 , 0.07324472,\n",
       "       0.0697099 , 0.02555323, 0.07569164, 0.07604394, 0.07412235,\n",
       "       0.00303674, 0.07564905, 0.07576344, 0.07535427, 0.06846407,\n",
       "       0.0411818 , 0.06846781, 0.07412655, 0.03915737, 0.07612711,\n",
       "       0.05813147, 0.0735706 , 0.0150475 , 0.07494457, 0.06479645,\n",
       "       0.06710086, 0.03129637, 0.07290204, 0.06127463, 0.07586468,\n",
       "       0.04225922, 0.06957669, 0.0675672 , 0.07612641, 0.04655786,\n",
       "       0.06737477, 0.07113152, 0.03422077, 0.06989227, 0.05565508,\n",
       "       0.07222544, 0.07582867, 0.05888546, 0.07614476, 0.04005974,\n",
       "       0.06915329, 0.03038713, 0.05268908, 0.06468885, 0.01737932,\n",
       "       0.05126485, 0.03642912, 0.03935866, 0.07410019, 0.06472292,\n",
       "       0.0707935 , 0.07470913, 0.07542457, 0.07218386, 0.01362854,\n",
       "       0.03793863, 0.07220188, 0.03085089, 0.07488299, 0.03631411,\n",
       "       0.00195534, 0.07596944, 0.04207315, 0.07613316, 0.06828792,\n",
       "       0.07614949, 0.05165959, 0.07536813, 0.05169461, 0.04560018,\n",
       "       0.07103175, 0.0761032 , 0.03714268, 0.03957845, 0.03381195,\n",
       "       0.07495428, 0.07370619, 0.04428267, 0.04094606, 0.06762974,\n",
       "       0.06213219, 0.0624929 , 0.00080767, 0.06761105, 0.07597543,\n",
       "       0.0741441 , 0.03187773, 0.06795962, 0.04377924, 0.01283509,\n",
       "       0.07602466, 0.06999681, 0.05956395, 0.07193628, 0.03463949,\n",
       "       0.05343373, 0.06678797, 0.04095337, 0.07583692, 0.0748427 ,\n",
       "       0.01845452, 0.07149451, 0.00208561, 0.07404213, 0.07390248,\n",
       "       0.06749184, 0.0751856 , 0.07073642, 0.0338554 , 0.00387674,\n",
       "       0.06487101, 0.03208245, 0.06893835, 0.07258274, 0.07604311,\n",
       "       0.05355527, 0.06421014, 0.07385533, 0.06393994, 0.07526721,\n",
       "       0.01490382, 0.05927919, 0.0668848 , 0.05210825, 0.04614314,\n",
       "       0.05192926, 0.03608601, 0.05825587, 0.07312266, 0.0549207 ,\n",
       "       0.03897055, 0.05319078, 0.06580892, 0.05798883, 0.06290796,\n",
       "       0.07046462, 0.02493265, 0.04290821, 0.07422989, 0.07347211,\n",
       "       0.07178249, 0.07181201, 0.07578274, 0.07442048, 0.07593256,\n",
       "       0.07398637, 0.02506785, 0.06565446, 0.075701  , 0.03529087,\n",
       "       0.05962642, 0.07594695, 0.05944057, 0.07096595, 0.06666484,\n",
       "       0.05880218, 0.03346818, 0.06581724, 0.04501555, 0.06257352])"
      ]
     },
     "execution_count": 40,
     "metadata": {},
     "output_type": "execute_result"
    }
   ],
   "source": [
    "## alternate\n",
    "\n",
    "x = np.random.normal(1,5,1000)\n",
    "mu = np.mean(x)\n",
    "sigma = np.std(x)\n",
    "pdf_value = norm.pdf(x,mu,sigma)\n",
    "pdf_value"
   ]
  },
  {
   "cell_type": "code",
   "execution_count": 41,
   "id": "13f84b39-2c30-4ff7-b437-1ea3e1f1b80e",
   "metadata": {},
   "outputs": [
    {
     "data": {
      "text/plain": [
       "<Axes: ylabel='Density'>"
      ]
     },
     "execution_count": 41,
     "metadata": {},
     "output_type": "execute_result"
    },
    {
     "data": {
      "image/png": "[encoded data removed]",
      "text/plain": [
       "<Figure size 640x480 with 1 Axes>"
      ]
     },
     "metadata": {},
     "output_type": "display_data"
    }
   ],
   "source": [
    "sns.kdeplot(pdf_value)"
   ]
  },
  {
   "cell_type": "markdown",
   "id": "f2fbc71f-a885-4b5b-95cd-dc6ddc5331ed",
   "metadata": {},
   "source": [
    "# Q.No.9"
   ]
  },
  {
   "cell_type": "code",
   "execution_count": 42,
   "id": "16bb8038-b6eb-4d66-8465-2c3818eedf56",
   "metadata": {},
   "outputs": [
    {
     "name": "stdout",
     "output_type": "stream",
     "text": [
      "The cdf of data is :  [0.         0.05880606 0.11415397 0.16624708 0.21527681 0.26142329\n",
      " 0.30485607 0.34573475 0.38420951 0.42042172 0.45450444 0.48658288\n",
      " 0.51677492 0.54519148 0.57193698 0.59710968 0.62080207 0.64310121\n",
      " 0.66408902 0.68384262 0.70243459 0.71993324 0.73640286 0.75190397\n",
      " 0.76649352 0.78022512 0.79314921 0.80531329 0.81676205 0.82753755\n",
      " 0.83767939 0.84722482 0.85620893 0.86466472 0.87262325 0.88011378\n",
      " 0.88716381 0.89379926 0.90004451 0.9059225  0.91145483 0.91666182\n",
      " 0.92156261 0.9261752  0.93051655 0.9346026  0.93844836 0.94206797\n",
      " 0.94547472 0.94868114 0.951699   0.95453939 0.95721275 0.9597289\n",
      " 0.96209709 0.96432601 0.96642385 0.96839833 0.9702567  0.97200579\n",
      " 0.97365202 0.97520144 0.97665975 0.97803229 0.97932413 0.98053999\n",
      " 0.98168436 0.98276143 0.98377516 0.98472928 0.98562729 0.9864725\n",
      " 0.98726799 0.98801671 0.9887214  0.98938465 0.9900089  0.99059644\n",
      " 0.99114942 0.99166989 0.99215975 0.99262081 0.99305475 0.99346317\n",
      " 0.99384758 0.99420938 0.9945499  0.9948704  0.99517205 0.99545596\n",
      " 0.99572318 0.99597468 0.9962114  0.99643419 0.99664388 0.99684124\n",
      " 0.99702699 0.99720183 0.99736637 0.99752125]\n"
     ]
    }
   ],
   "source": [
    "from scipy.stats import expon\n",
    "def CDF():\n",
    "    list1 = np.linspace(0,4,100)\n",
    "    lamb = 1.5\n",
    "    \n",
    "    cdf = expon.cdf(list1 , scale = 1/lamb)\n",
    "    print(\"The cdf of data is : \" , cdf)\n",
    "CDF()"
   ]
  },
  {
   "cell_type": "code",
   "execution_count": 43,
   "id": "aea48a6f-09e0-4da3-aa9c-26f639734cb5",
   "metadata": {},
   "outputs": [
    {
     "data": {
      "image/png": "[encoded data removed]",
      "text/plain": [
       "<Figure size 640x480 with 1 Axes>"
      ]
     },
     "metadata": {},
     "output_type": "display_data"
    }
   ],
   "source": [
    "list1 = np.linspace(0,4,100)\n",
    "lamb = 1.5    \n",
    "cdf = expon.cdf(list1 , scale = 1/lamb)\n",
    "sns.kdeplot(cdf , color = 'blue' )\n",
    "plt.title('Cdf distribution')\n",
    "plt.show()"
   ]
  },
  {
   "cell_type": "markdown",
   "id": "9d7dc466-b318-41b1-a941-f1d7a565e46c",
   "metadata": {},
   "source": [
    "# Q.NO.10 "
   ]
  },
  {
   "cell_type": "code",
   "execution_count": 44,
   "id": "46b2bef9-1bdf-4311-8ebc-4b3e1be6a633",
   "metadata": {},
   "outputs": [
    {
     "name": "stdout",
     "output_type": "stream",
     "text": [
      "PMF of Poisson distribution with λ = 1.5:\n",
      "P(X = 0) = 0.2231\n",
      "P(X = 1) = 0.3347\n",
      "P(X = 2) = 0.2510\n",
      "P(X = 3) = 0.1255\n",
      "P(X = 4) = 0.0471\n",
      "P(X = 5) = 0.0141\n",
      "P(X = 6) = 0.0035\n",
      "P(X = 7) = 0.0008\n",
      "P(X = 8) = 0.0001\n",
      "P(X = 9) = 0.0000\n",
      "P(X = 10) = 0.0000\n",
      "P(X = 11) = 0.0000\n",
      "P(X = 12) = 0.0000\n",
      "P(X = 13) = 0.0000\n",
      "P(X = 14) = 0.0000\n",
      "P(X = 15) = 0.0000\n",
      "P(X = 16) = 0.0000\n",
      "P(X = 17) = 0.0000\n",
      "P(X = 18) = 0.0000\n",
      "P(X = 19) = 0.0000\n"
     ]
    }
   ],
   "source": [
    "from scipy.stats import poisson\n",
    "def PMF(lamb):\n",
    "    value = np.arange(0,20)\n",
    "    pmf_values = poisson.pmf( value , mu = lamb)\n",
    "    print(f\"PMF of Poisson distribution with λ = {lamb}:\")\n",
    "    \n",
    "    ## for printing the values and pmf\n",
    "    for k, pmf in zip(value, pmf_values):\n",
    "        print(f\"P(X = {k}) = {pmf:.4f}\")\n",
    "\n",
    "lamb = 1.5\n",
    "PMF(lamb)"
   ]
  },
  {
   "cell_type": "markdown",
   "id": "059d3b15-5a3e-468f-ae17-1e16de368a16",
   "metadata": {},
   "source": [
    "# Q.NO.11"
   ]
  },
  {
   "cell_type": "code",
   "execution_count": 45,
   "id": "57476a95-1345-42c2-aece-8f58464fff83",
   "metadata": {},
   "outputs": [],
   "source": [
    "from statsmodels.stats.proportion import proportions_ztest"
   ]
  },
  {
   "cell_type": "code",
   "execution_count": 46,
   "id": "f3255d1f-5d81-4917-b322-d82333d8b49a",
   "metadata": {},
   "outputs": [],
   "source": [
    "# 50 purchases out of 1000 visitors\n",
    "old_layout = np.array([1]*50 + [0]*950)\n",
    "new_layout = np.array([1]*70 + [0]*930)\n",
    "old_success = np.sum(old_layout)\n",
    "new_success = np.sum(new_layout)\n",
    "old_n = len(old_layout)\n",
    "new_n = len(new_layout)\n",
    "old_conv =old_success/old_n\n",
    "new_conv = new_success/(new_n)\n",
    "\n",
    "alpha = 0.05\n",
    "count = np.array([old_success, new_success])\n",
    "nobs = np.array([old_n, new_n])\n",
    "z_stat, p_value = proportions_ztest(count, nobs)"
   ]
  },
  {
   "cell_type": "code",
   "execution_count": 47,
   "id": "c205a9bb-8218-495f-b55d-52ef8a5de798",
   "metadata": {},
   "outputs": [
    {
     "data": {
      "text/plain": [
       "(-1.883108942886774, 0.059685605532426224)"
      ]
     },
     "execution_count": 47,
     "metadata": {},
     "output_type": "execute_result"
    }
   ],
   "source": [
    "z_stat,p_value\n"
   ]
  },
  {
   "cell_type": "code",
   "execution_count": 48,
   "id": "84e87d55-412f-4cca-a9c0-22c0b210a1de",
   "metadata": {},
   "outputs": [],
   "source": [
    "## alter method\n",
    "from statsmodels.stats.weightstats import ztest\n",
    "z_stat,p_value = ztest(old_layout,new_layout)"
   ]
  },
  {
   "cell_type": "code",
   "execution_count": 49,
   "id": "8b940842-4d47-4365-82a7-ec92c10bc5bb",
   "metadata": {},
   "outputs": [
    {
     "data": {
      "text/plain": [
       "(-1.883837962960912, 0.05958689675745177)"
      ]
     },
     "execution_count": 49,
     "metadata": {},
     "output_type": "execute_result"
    }
   ],
   "source": [
    "z_stat,p_value\n"
   ]
  },
  {
   "cell_type": "code",
   "execution_count": 50,
   "id": "e4e93b0b-b111-4294-9cc7-95386e4089cd",
   "metadata": {},
   "outputs": [
    {
     "name": "stdout",
     "output_type": "stream",
     "text": [
      "Both the layouts are same\n"
     ]
    }
   ],
   "source": [
    "# null_hypo: The conversion rates for the old and new layouts are the same.\n",
    "# alter_hypo: The conversion rates for the old and new layouts are different.\n",
    "\n",
    "if p_value < 0.05:\n",
    "    print(\"New_layout is more successful\")\n",
    "else:\n",
    "    print(\"Both the layouts are same\")"
   ]
  },
  {
   "cell_type": "markdown",
   "id": "2d51aae6-db96-4c3e-b5f5-a6f75b58cefc",
   "metadata": {},
   "source": [
    "# Q.NO.12"
   ]
  },
  {
   "cell_type": "code",
   "execution_count": 51,
   "id": "2a5cf8bd-39bb-4fe7-8662-d8d8a6dde577",
   "metadata": {},
   "outputs": [],
   "source": [
    "before_program = np.array([75,80,85,70,90,78,92,88,82,87])\n",
    "after_program = np.array([80,85,90,80,92,80,95,90,85,88])\n",
    "\n",
    "# null_hypo : mean1 = mean2\n",
    "# alter_hypo : mean2!=mean1\n",
    "\n",
    "from statsmodels.stats.weightstats import ztest\n",
    "z_stat,p_value = ztest(before_program,after_program )"
   ]
  },
  {
   "cell_type": "code",
   "execution_count": 52,
   "id": "6cd32001-9db4-4db7-85f6-366cdbb7a3f4",
   "metadata": {},
   "outputs": [
    {
     "data": {
      "text/plain": [
       "(-1.3600371723457605, 0.17381816101827674)"
      ]
     },
     "execution_count": 52,
     "metadata": {},
     "output_type": "execute_result"
    }
   ],
   "source": [
    "z_stat,p_value"
   ]
  },
  {
   "cell_type": "code",
   "execution_count": 53,
   "id": "ea0ed3a2-7f34-4ffd-bc25-d8080b5b6e1b",
   "metadata": {},
   "outputs": [
    {
     "name": "stdout",
     "output_type": "stream",
     "text": [
      "claim by tutor is false\n"
     ]
    }
   ],
   "source": [
    "if p_value < 0.05:\n",
    "    print(\"claim by tutor is true\")\n",
    "else:\n",
    "    print(\"claim by tutor is false\")"
   ]
  },
  {
   "cell_type": "markdown",
   "id": "f1c3daba-e55b-42bb-99f9-fa7f665303cc",
   "metadata": {},
   "source": [
    "# Q.NO.13"
   ]
  },
  {
   "cell_type": "code",
   "execution_count": 54,
   "id": "1a5f148a-ed36-44d3-9fbf-429302a4e6c0",
   "metadata": {},
   "outputs": [],
   "source": [
    "before_drug = np.array([145,150,140,135,155,160,152,148,130,138])\n",
    "after_drug = np.array([130,140,132,128,145,148,138,136,125,130])\n",
    "z_stat,p_value = ztest(before_drug,after_drug)"
   ]
  },
  {
   "cell_type": "code",
   "execution_count": 55,
   "id": "efeeb850-9be1-43e9-8059-98c24eb69ca7",
   "metadata": {},
   "outputs": [
    {
     "data": {
      "text/plain": [
       "(2.639577121919447, 0.008300953387191556)"
      ]
     },
     "execution_count": 55,
     "metadata": {},
     "output_type": "execute_result"
    }
   ],
   "source": [
    "z_stat , p_value"
   ]
  },
  {
   "cell_type": "code",
   "execution_count": 56,
   "id": "ca9122c1-cc58-4170-9209-384c6835c50a",
   "metadata": {},
   "outputs": [
    {
     "name": "stdout",
     "output_type": "stream",
     "text": [
      "reject the null hypothesis: drug really works\n"
     ]
    }
   ],
   "source": [
    "# null_hypo : mean1 = mean2 i.e there is no effectiveness\n",
    "# alter_hypo : mean2!=mean1 i.e there is effectiveness after medicine\n",
    "\n",
    "\n",
    "if p_value <0.05:\n",
    "    print(\"reject the null hypothesis: drug really works\")\n",
    "else:\n",
    "    print(\"fail to reject null hypothesis : drug doesnt works\")"
   ]
  },
  {
   "cell_type": "markdown",
   "id": "202f4b23-2ba7-45bd-a83f-27622afbbd61",
   "metadata": {},
   "source": [
    "# Q.NO.14"
   ]
  },
  {
   "cell_type": "code",
   "execution_count": 57,
   "id": "dbe880e4-b48e-4a4a-853e-a099154c83fc",
   "metadata": {},
   "outputs": [],
   "source": [
    "## null hypo : mean=5\n",
    "## alternate hypo : mean != 5\n",
    "\n",
    "response_times = np.array([4.3,3.8,5.1,4.9,4.7,4.2,5.2,4.5,4.6,4.4])\n",
    "mean = np.mean(response_times)\n",
    "null_mean = 5\n",
    "z_stat , p_value = ztest(response_times,value = null_mean)"
   ]
  },
  {
   "cell_type": "code",
   "execution_count": 58,
   "id": "e13b6cb1-3422-4d7f-ae5e-383eb80299cc",
   "metadata": {},
   "outputs": [
    {
     "data": {
      "text/plain": [
       "(-3.1844572260429627, 0.0014502574226137916)"
      ]
     },
     "execution_count": 58,
     "metadata": {},
     "output_type": "execute_result"
    }
   ],
   "source": [
    "z_stat,p_value"
   ]
  },
  {
   "cell_type": "code",
   "execution_count": 59,
   "id": "5dea4875-c7da-4e8f-b611-903c0487eb38",
   "metadata": {},
   "outputs": [
    {
     "name": "stdout",
     "output_type": "stream",
     "text": [
      "reject the null hypothesis: claim made is true\n"
     ]
    }
   ],
   "source": [
    "\n",
    "if p_value <0.05:\n",
    "    print(\"reject the null hypothesis: claim made is true\")\n",
    "else:\n",
    "    print(\"fail to reject null hypothesis : claim made is false\")"
   ]
  },
  {
   "cell_type": "markdown",
   "id": "7d7bd55e-290a-465c-a686-5c1f6e092d04",
   "metadata": {},
   "source": [
    "# Q.NO.15"
   ]
  },
  {
   "cell_type": "code",
   "execution_count": 60,
   "id": "f9476d04-95fe-496f-936c-a04a1f400090",
   "metadata": {},
   "outputs": [],
   "source": [
    "from statsmodels.stats.weightstats import ttest_ind"
   ]
  },
  {
   "cell_type": "code",
   "execution_count": 61,
   "id": "95d75629-a734-41e3-b2b7-2f8d6d1d2e27",
   "metadata": {},
   "outputs": [
    {
     "name": "stdout",
     "output_type": "stream",
     "text": [
      "degree of freedom is 18.0\n",
      "t_statistics is -7.298102156175071\n",
      "p-value is 8.833437608301987e-07\n",
      "Reject the null hypothesis i.e there is difference in the layout\n"
     ]
    }
   ],
   "source": [
    "# H0 : there is no difference in rate of click\n",
    "# h1 : there is difference in rate of clicks\n",
    "\n",
    "layout_a_clicks = [28,32,33,29,31,34,30,35,36,37]\n",
    "layout_b_clicks = [40,41,38,42,39,44,43,41,45,47]\n",
    "\n",
    "def t_stats():\n",
    "   # performing A/B t-test\n",
    "    t_stat,p_value,dof = ttest_ind(layout_a_clicks,layout_b_clicks)\n",
    "    print(f\"degree of freedom is {dof}\\nt_statistics is {t_stat}\\np-value is {p_value}\")\n",
    "# significance level\n",
    "    alpha = 0.05\n",
    "    if p_value <alpha:\n",
    "        print(\"Reject the null hypothesis i.e there is difference in the layout\")\n",
    "\n",
    "    else:\n",
    "        print(\"fail to reject null hypothesis i.e there is no difference in the layouts\")\n",
    "\n",
    "t_stats()"
   ]
  },
  {
   "cell_type": "markdown",
   "id": "40a87c92-90c7-4981-93f3-faef4890a051",
   "metadata": {},
   "source": [
    "# Q.NO.16"
   ]
  },
  {
   "cell_type": "code",
   "execution_count": 90,
   "id": "f5f823a9-8fc8-4363-899d-4424f97f61b7",
   "metadata": {},
   "outputs": [],
   "source": [
    "from scipy.stats import ttest_rel"
   ]
  },
  {
   "cell_type": "code",
   "execution_count": 92,
   "id": "19c42c27-3e02-4771-b2d6-bcb13795cffb",
   "metadata": {},
   "outputs": [
    {
     "name": "stdout",
     "output_type": "stream",
     "text": [
      "t-statistics is 5.266851623825876\n",
      "p-value is 0.0005160202180080982\n",
      "we reject the null hypothesis : new drug is more effective\n"
     ]
    }
   ],
   "source": [
    "# Ho : there is no difference in the effectiveness\n",
    "# H1 : there is difference in effectiveness\n",
    "existing_drug_levels = [180,182,175,185,178,176,172,184,179,183]\n",
    "new_drug_levels = [170,172,165,168,175,173,170,178,172,176]\n",
    "\n",
    "t_stat,p_value = ttest_rel(existing_drug_levels,new_drug_levels)\n",
    "print(f\"t-statistics is {t_stat}\\np-value is {p_value}\")\n",
    "\n",
    "#level of significance\n",
    "alpha = 0.05\n",
    "if p_value < 0.05:\n",
    "    print(\"we reject the null hypothesis : new drug is more effective\")\n",
    "\n",
    "else:\n",
    "    print(\"fail to reject the null hypothesis i.e there is no difference\")"
   ]
  },
  {
   "cell_type": "markdown",
   "id": "f7f7d348-58b8-49d8-b9f1-dddc2b96dfbc",
   "metadata": {},
   "source": [
    "# Q.NO.17"
   ]
  },
  {
   "cell_type": "code",
   "execution_count": 64,
   "id": "8ae73942-9c9d-493d-9fcd-aef6da3b3fb2",
   "metadata": {},
   "outputs": [
    {
     "name": "stdout",
     "output_type": "stream",
     "text": [
      "t-statistics is -4.080355128162116\n",
      "p-value is 0.0007022570725706455\n",
      "we reject the null hypothesis : there is significant impact\n"
     ]
    }
   ],
   "source": [
    "# Ho : there is no significant impact\n",
    "# H1 : there is significant impact\n",
    "\n",
    "pre_invention_scores = [80,85,90,75,88,82,92,78,85,87]\n",
    "post_invention_scores = [90,92,88,92,95,91,96,93,89,93]\n",
    "\n",
    "t_stat , p_value , dof = ttest_ind(pre_invention_scores,post_invention_scores)\n",
    "print(f\"t-statistics is {t_stat}\\np-value is {p_value}\")\n",
    "\n",
    "#level of significance\n",
    "alpha = 0.05\n",
    "if p_value < 0.05:\n",
    "    print(\"we reject the null hypothesis : there is significant impact\")\n",
    "\n",
    "else:\n",
    "    print(\"fail to reject the null hypothesis i.e there is no significant impact\")"
   ]
  },
  {
   "cell_type": "markdown",
   "id": "b9c5023b-3827-4b1d-bd01-114f50e57c16",
   "metadata": {},
   "source": [
    "# Q.NO.18"
   ]
  },
  {
   "cell_type": "code",
   "execution_count": 65,
   "id": "5a13db0b-07b6-4a4a-81d3-b59f93768055",
   "metadata": {},
   "outputs": [
    {
     "name": "stdout",
     "output_type": "stream",
     "text": [
      "t-statistics is 0.061142089696304545\n",
      "p-value is 0.9515665020676538\n",
      "fail to reject the null hypothesis i.e there is no statistically significant difference between the average salaries of male and female\n"
     ]
    }
   ],
   "source": [
    "np.random.seed(0)  ## for reproducibility\n",
    "male_salaries = np.random.normal(loc = 50000 , scale = 10000 , size = 20)\n",
    "female_salaries = np.random.normal(loc = 55000 , scale = 9000 , size = 20)\n",
    "\n",
    "# Ho: there is no statistically significant difference between the average salaries of male and female\n",
    "# H1: there is statistically significant difference between the average salaries of male and female\n",
    "\n",
    "t_stat , p_value , dof = ttest_ind(male_salaries,female_salaries)\n",
    "print(f\"t-statistics is {t_stat}\\np-value is {p_value}\")\n",
    "\n",
    "#level of significance\n",
    "alpha = 0.05\n",
    "if p_value < alpha:\n",
    "    print(\"we reject the null hypothesis : there is statistically significant difference between the average salaries of male and female\")\n",
    "\n",
    "else:\n",
    "    print(\"fail to reject the null hypothesis i.e there is no statistically significant difference between the average salaries of male and female\")"
   ]
  },
  {
   "cell_type": "markdown",
   "id": "3d3a7127-db12-41d6-bfb9-fc66a392000f",
   "metadata": {},
   "source": [
    "# Q.NO.19"
   ]
  },
  {
   "cell_type": "code",
   "execution_count": 66,
   "id": "808cbdf3-1c9a-414e-ba6a-b923a6de2aaf",
   "metadata": {},
   "outputs": [
    {
     "name": "stdout",
     "output_type": "stream",
     "text": [
      " t_statistics value is 11.325830417646698 \n",
      "p_value is 3.6824250702873965e-15\n",
      "Reject the null hypothesis.\n"
     ]
    }
   ],
   "source": [
    "version1_scores = [85, 88, 82, 89, 87, 84, 90, 88, 85, 86, 91, 83, 87, 84, 89, 86, 84, 88, 85, 86, 89, 90, 87, 88, 85]\n",
    "version2_scores = [80, 78, 83, 81, 79, 82, 76, 80, 78, 81, 77, 82, 80, 79, 82, 79, 80, 81, 79, 82, 79, 78, 80, 81, 82]\n",
    "\n",
    "# Ho : there is no difference in quality between the two variables\n",
    "# H1 : there is difference in quality between the two variables\n",
    "\n",
    "t_stats,pvalue = stats.ttest_ind(version1_scores,version2_scores)\n",
    "print(f\" t_statistics value is {t_stats} \\np_value is {pvalue}\")\n",
    "alpha = 0.05\n",
    "if pvalue < alpha:\n",
    "    print(\"Reject the null hypothesis.\")\n",
    "else:\n",
    "    print(\"Fail to reject the null hypothesis.\")\n"
   ]
  },
  {
   "cell_type": "markdown",
   "id": "095e05e3-59d2-4958-bc8d-9335f651663c",
   "metadata": {},
   "source": [
    "# Q.NO.20"
   ]
  },
  {
   "cell_type": "code",
   "execution_count": 67,
   "id": "d0bef3ed-81ac-4ae0-843b-5c7126da2536",
   "metadata": {},
   "outputs": [
    {
     "name": "stdout",
     "output_type": "stream",
     "text": [
      " t_statistics value is 5.480077554195744 \n",
      "p_value is 8.895290509945655e-07\n",
      "Reject the null hypothesis.\n"
     ]
    }
   ],
   "source": [
    "branch_a_scores = [4, 5, 3, 4, 5, 4, 5, 3, 4, 4, 5, 4, 4, 3, 4, 5, 5, 4, 3, 4, 5, 4, 3, 5, 4, 4, 5, 3, 4, 5, 4]\n",
    "branch_b_scores = [3, 4, 2, 3, 4, 3, 4, 2, 3, 3, 4, 3, 3, 2, 3, 4, 4, 3, 2, 3, 4, 3, 2, 4, 3, 3, 4, 2, 3, 4, 3]\n",
    "\n",
    "t_stat,pvalue , dof = ttest_ind(branch_a_scores,branch_b_scores)\n",
    "print(f\" t_statistics value is {t_stat} \\np_value is {pvalue}\")\n",
    "\n",
    "alpha = 0.05\n",
    "if pvalue < alpha:\n",
    "    print(\"Reject the null hypothesis.\")\n",
    "else:\n",
    "    print(\"Fail to reject the null hypothesis.\")"
   ]
  },
  {
   "cell_type": "markdown",
   "id": "2c321247-b840-4f21-b352-25ba2aa2dfd9",
   "metadata": {},
   "source": [
    "# Q.NO.21"
   ]
  },
  {
   "cell_type": "code",
   "execution_count": 68,
   "id": "abdfae50-7c74-4202-953b-c2dd232fbded",
   "metadata": {},
   "outputs": [],
   "source": [
    "np.random.seed(0)\n",
    "data = {'age_groups' : np.random.choice(['18-30','31-50','51+','51+'],size = 30),\n",
    "        'voter_preferences' : np.random.choice(['Candidate A','Candidate B'],size = 30)}"
   ]
  },
  {
   "cell_type": "code",
   "execution_count": 69,
   "id": "133f205e-39e8-4feb-8261-e7155e61f7a9",
   "metadata": {},
   "outputs": [
    {
     "data": {
      "text/html": [
       "<div>\n",
       "<style scoped>\n",
       "    .dataframe tbody tr th:only-of-type {\n",
       "        vertical-align: middle;\n",
       "    }\n",
       "\n",
       "    .dataframe tbody tr th {\n",
       "        vertical-align: top;\n",
       "    }\n",
       "\n",
       "    .dataframe thead th {\n",
       "        text-align: right;\n",
       "    }\n",
       "</style>\n",
       "<table border=\"1\" class=\"dataframe\">\n",
       "  <thead>\n",
       "    <tr style=\"text-align: right;\">\n",
       "      <th></th>\n",
       "      <th>age_groups</th>\n",
       "      <th>voter_preferences</th>\n",
       "    </tr>\n",
       "  </thead>\n",
       "  <tbody>\n",
       "    <tr>\n",
       "      <th>0</th>\n",
       "      <td>18-30</td>\n",
       "      <td>Candidate B</td>\n",
       "    </tr>\n",
       "    <tr>\n",
       "      <th>1</th>\n",
       "      <td>51+</td>\n",
       "      <td>Candidate A</td>\n",
       "    </tr>\n",
       "    <tr>\n",
       "      <th>2</th>\n",
       "      <td>31-50</td>\n",
       "      <td>Candidate B</td>\n",
       "    </tr>\n",
       "    <tr>\n",
       "      <th>3</th>\n",
       "      <td>18-30</td>\n",
       "      <td>Candidate A</td>\n",
       "    </tr>\n",
       "    <tr>\n",
       "      <th>4</th>\n",
       "      <td>51+</td>\n",
       "      <td>Candidate B</td>\n",
       "    </tr>\n",
       "    <tr>\n",
       "      <th>5</th>\n",
       "      <td>51+</td>\n",
       "      <td>Candidate B</td>\n",
       "    </tr>\n",
       "    <tr>\n",
       "      <th>6</th>\n",
       "      <td>51+</td>\n",
       "      <td>Candidate A</td>\n",
       "    </tr>\n",
       "    <tr>\n",
       "      <th>7</th>\n",
       "      <td>51+</td>\n",
       "      <td>Candidate B</td>\n",
       "    </tr>\n",
       "    <tr>\n",
       "      <th>8</th>\n",
       "      <td>31-50</td>\n",
       "      <td>Candidate B</td>\n",
       "    </tr>\n",
       "    <tr>\n",
       "      <th>9</th>\n",
       "      <td>51+</td>\n",
       "      <td>Candidate A</td>\n",
       "    </tr>\n",
       "    <tr>\n",
       "      <th>10</th>\n",
       "      <td>31-50</td>\n",
       "      <td>Candidate A</td>\n",
       "    </tr>\n",
       "    <tr>\n",
       "      <th>11</th>\n",
       "      <td>51+</td>\n",
       "      <td>Candidate B</td>\n",
       "    </tr>\n",
       "    <tr>\n",
       "      <th>12</th>\n",
       "      <td>18-30</td>\n",
       "      <td>Candidate A</td>\n",
       "    </tr>\n",
       "    <tr>\n",
       "      <th>13</th>\n",
       "      <td>51+</td>\n",
       "      <td>Candidate B</td>\n",
       "    </tr>\n",
       "    <tr>\n",
       "      <th>14</th>\n",
       "      <td>51+</td>\n",
       "      <td>Candidate B</td>\n",
       "    </tr>\n",
       "    <tr>\n",
       "      <th>15</th>\n",
       "      <td>18-30</td>\n",
       "      <td>Candidate B</td>\n",
       "    </tr>\n",
       "    <tr>\n",
       "      <th>16</th>\n",
       "      <td>18-30</td>\n",
       "      <td>Candidate B</td>\n",
       "    </tr>\n",
       "    <tr>\n",
       "      <th>17</th>\n",
       "      <td>18-30</td>\n",
       "      <td>Candidate B</td>\n",
       "    </tr>\n",
       "    <tr>\n",
       "      <th>18</th>\n",
       "      <td>51+</td>\n",
       "      <td>Candidate A</td>\n",
       "    </tr>\n",
       "    <tr>\n",
       "      <th>19</th>\n",
       "      <td>31-50</td>\n",
       "      <td>Candidate B</td>\n",
       "    </tr>\n",
       "    <tr>\n",
       "      <th>20</th>\n",
       "      <td>51+</td>\n",
       "      <td>Candidate A</td>\n",
       "    </tr>\n",
       "    <tr>\n",
       "      <th>21</th>\n",
       "      <td>51+</td>\n",
       "      <td>Candidate B</td>\n",
       "    </tr>\n",
       "    <tr>\n",
       "      <th>22</th>\n",
       "      <td>51+</td>\n",
       "      <td>Candidate B</td>\n",
       "    </tr>\n",
       "    <tr>\n",
       "      <th>23</th>\n",
       "      <td>51+</td>\n",
       "      <td>Candidate B</td>\n",
       "    </tr>\n",
       "    <tr>\n",
       "      <th>24</th>\n",
       "      <td>18-30</td>\n",
       "      <td>Candidate B</td>\n",
       "    </tr>\n",
       "    <tr>\n",
       "      <th>25</th>\n",
       "      <td>31-50</td>\n",
       "      <td>Candidate A</td>\n",
       "    </tr>\n",
       "    <tr>\n",
       "      <th>26</th>\n",
       "      <td>31-50</td>\n",
       "      <td>Candidate B</td>\n",
       "    </tr>\n",
       "    <tr>\n",
       "      <th>27</th>\n",
       "      <td>31-50</td>\n",
       "      <td>Candidate A</td>\n",
       "    </tr>\n",
       "    <tr>\n",
       "      <th>28</th>\n",
       "      <td>31-50</td>\n",
       "      <td>Candidate A</td>\n",
       "    </tr>\n",
       "    <tr>\n",
       "      <th>29</th>\n",
       "      <td>18-30</td>\n",
       "      <td>Candidate B</td>\n",
       "    </tr>\n",
       "  </tbody>\n",
       "</table>\n",
       "</div>"
      ],
      "text/plain": [
       "   age_groups voter_preferences\n",
       "0       18-30       Candidate B\n",
       "1         51+       Candidate A\n",
       "2       31-50       Candidate B\n",
       "3       18-30       Candidate A\n",
       "4         51+       Candidate B\n",
       "5         51+       Candidate B\n",
       "6         51+       Candidate A\n",
       "7         51+       Candidate B\n",
       "8       31-50       Candidate B\n",
       "9         51+       Candidate A\n",
       "10      31-50       Candidate A\n",
       "11        51+       Candidate B\n",
       "12      18-30       Candidate A\n",
       "13        51+       Candidate B\n",
       "14        51+       Candidate B\n",
       "15      18-30       Candidate B\n",
       "16      18-30       Candidate B\n",
       "17      18-30       Candidate B\n",
       "18        51+       Candidate A\n",
       "19      31-50       Candidate B\n",
       "20        51+       Candidate A\n",
       "21        51+       Candidate B\n",
       "22        51+       Candidate B\n",
       "23        51+       Candidate B\n",
       "24      18-30       Candidate B\n",
       "25      31-50       Candidate A\n",
       "26      31-50       Candidate B\n",
       "27      31-50       Candidate A\n",
       "28      31-50       Candidate A\n",
       "29      18-30       Candidate B"
      ]
     },
     "execution_count": 69,
     "metadata": {},
     "output_type": "execute_result"
    }
   ],
   "source": [
    "df = pd.DataFrame(data,columns = ['age_groups','voter_preferences'])\n",
    "df"
   ]
  },
  {
   "cell_type": "code",
   "execution_count": 70,
   "id": "c924ce2e-ecc3-44b8-ace7-bc53f695deae",
   "metadata": {},
   "outputs": [
    {
     "data": {
      "text/html": [
       "<div>\n",
       "<style scoped>\n",
       "    .dataframe tbody tr th:only-of-type {\n",
       "        vertical-align: middle;\n",
       "    }\n",
       "\n",
       "    .dataframe tbody tr th {\n",
       "        vertical-align: top;\n",
       "    }\n",
       "\n",
       "    .dataframe thead th {\n",
       "        text-align: right;\n",
       "    }\n",
       "</style>\n",
       "<table border=\"1\" class=\"dataframe\">\n",
       "  <thead>\n",
       "    <tr style=\"text-align: right;\">\n",
       "      <th>voter_preferences</th>\n",
       "      <th>Candidate A</th>\n",
       "      <th>Candidate B</th>\n",
       "    </tr>\n",
       "    <tr>\n",
       "      <th>age_groups</th>\n",
       "      <th></th>\n",
       "      <th></th>\n",
       "    </tr>\n",
       "  </thead>\n",
       "  <tbody>\n",
       "    <tr>\n",
       "      <th>18-30</th>\n",
       "      <td>2</td>\n",
       "      <td>6</td>\n",
       "    </tr>\n",
       "    <tr>\n",
       "      <th>31-50</th>\n",
       "      <td>4</td>\n",
       "      <td>4</td>\n",
       "    </tr>\n",
       "    <tr>\n",
       "      <th>51+</th>\n",
       "      <td>5</td>\n",
       "      <td>9</td>\n",
       "    </tr>\n",
       "  </tbody>\n",
       "</table>\n",
       "</div>"
      ],
      "text/plain": [
       "voter_preferences  Candidate A  Candidate B\n",
       "age_groups                                 \n",
       "18-30                        2            6\n",
       "31-50                        4            4\n",
       "51+                          5            9"
      ]
     },
     "execution_count": 70,
     "metadata": {},
     "output_type": "execute_result"
    }
   ],
   "source": [
    "data_table = pd.crosstab(df['age_groups'],df['voter_preferences'])\n",
    "data_table"
   ]
  },
  {
   "cell_type": "code",
   "execution_count": 71,
   "id": "c527823f-d306-4e7f-902a-5d449a7b233c",
   "metadata": {},
   "outputs": [
    {
     "data": {
      "text/plain": [
       "array([[2, 6],\n",
       "       [4, 4],\n",
       "       [5, 9]], dtype=int64)"
      ]
     },
     "execution_count": 71,
     "metadata": {},
     "output_type": "execute_result"
    }
   ],
   "source": [
    "observed_values = data_table.values\n",
    "observed_values"
   ]
  },
  {
   "cell_type": "code",
   "execution_count": 72,
   "id": "40fb6a5c-9ee3-4e16-9c1c-19aab4ad2854",
   "metadata": {},
   "outputs": [],
   "source": [
    "from scipy.stats import chi2_contingency"
   ]
  },
  {
   "cell_type": "code",
   "execution_count": 73,
   "id": "3f230707-6ed7-4a3e-8708-d6edb6f755c3",
   "metadata": {},
   "outputs": [],
   "source": [
    "chi_stats , p_value , dof , expected_value = chi2_contingency(observed_values)"
   ]
  },
  {
   "cell_type": "code",
   "execution_count": 74,
   "id": "a3bda31b-6a30-439c-929b-d87c61d22e92",
   "metadata": {},
   "outputs": [
    {
     "data": {
      "text/plain": [
       "(1.086807928913192,\n",
       " 0.5807679703526951,\n",
       " 2,\n",
       " array([[2.93333333, 5.06666667],\n",
       "        [2.93333333, 5.06666667],\n",
       "        [5.13333333, 8.86666667]]))"
      ]
     },
     "execution_count": 74,
     "metadata": {},
     "output_type": "execute_result"
    }
   ],
   "source": [
    "chi_stats,p_value,dof,expected_value"
   ]
  },
  {
   "cell_type": "code",
   "execution_count": 75,
   "id": "34d34d6d-1b4e-4133-93e6-3990fedc6993",
   "metadata": {},
   "outputs": [
    {
     "name": "stdout",
     "output_type": "stream",
     "text": [
      "there is no significant association in between age groups and voters preferences\n"
     ]
    }
   ],
   "source": [
    "if p_value<0.05:\n",
    "    print('there is significant association in between age groups and voters preferences')\n",
    "else:\n",
    "    print('there is no significant association in between age groups and voters preferences')\n"
   ]
  },
  {
   "cell_type": "markdown",
   "id": "2934b05f-febb-40e2-a05b-3641e8104fdb",
   "metadata": {},
   "source": [
    "# Q.NO.22"
   ]
  },
  {
   "cell_type": "code",
   "execution_count": 76,
   "id": "5a12360a-b8f3-4c01-a8eb-6da39648309a",
   "metadata": {},
   "outputs": [
    {
     "data": {
      "text/html": [
       "<div>\n",
       "<style scoped>\n",
       "    .dataframe tbody tr th:only-of-type {\n",
       "        vertical-align: middle;\n",
       "    }\n",
       "\n",
       "    .dataframe tbody tr th {\n",
       "        vertical-align: top;\n",
       "    }\n",
       "\n",
       "    .dataframe thead th {\n",
       "        text-align: right;\n",
       "    }\n",
       "</style>\n",
       "<table border=\"1\" class=\"dataframe\">\n",
       "  <thead>\n",
       "    <tr style=\"text-align: right;\">\n",
       "      <th></th>\n",
       "      <th>East</th>\n",
       "      <th>West</th>\n",
       "      <th>North</th>\n",
       "      <th>South</th>\n",
       "    </tr>\n",
       "  </thead>\n",
       "  <tbody>\n",
       "    <tr>\n",
       "      <th>Satisfied</th>\n",
       "      <td>50</td>\n",
       "      <td>30</td>\n",
       "      <td>40</td>\n",
       "      <td>20</td>\n",
       "    </tr>\n",
       "    <tr>\n",
       "      <th>Neutral</th>\n",
       "      <td>30</td>\n",
       "      <td>40</td>\n",
       "      <td>30</td>\n",
       "      <td>50</td>\n",
       "    </tr>\n",
       "    <tr>\n",
       "      <th>Dsisatisfied</th>\n",
       "      <td>20</td>\n",
       "      <td>30</td>\n",
       "      <td>40</td>\n",
       "      <td>30</td>\n",
       "    </tr>\n",
       "  </tbody>\n",
       "</table>\n",
       "</div>"
      ],
      "text/plain": [
       "              East  West  North  South\n",
       "Satisfied       50    30     40     20\n",
       "Neutral         30    40     30     50\n",
       "Dsisatisfied    20    30     40     30"
      ]
     },
     "execution_count": 76,
     "metadata": {},
     "output_type": "execute_result"
    }
   ],
   "source": [
    "data = np.array([[50,30,40,20],[30,40,30,50],[20,30,40,30]])\n",
    "df = pd.DataFrame(data , index = ['Satisfied','Neutral','Dsisatisfied'],columns = ['East','West','North','South'])\n",
    "df\n"
   ]
  },
  {
   "cell_type": "code",
   "execution_count": 77,
   "id": "15c3d44e-0b86-46a5-8969-40e80af97b52",
   "metadata": {},
   "outputs": [
    {
     "data": {
      "text/plain": [
       "array([[50, 30, 40, 20],\n",
       "       [30, 40, 30, 50],\n",
       "       [20, 30, 40, 30]])"
      ]
     },
     "execution_count": 77,
     "metadata": {},
     "output_type": "execute_result"
    }
   ],
   "source": [
    "observed_value = df.values\n",
    "observed_value"
   ]
  },
  {
   "cell_type": "code",
   "execution_count": 78,
   "id": "57d01008-235b-49d3-a401-f96e044172ec",
   "metadata": {},
   "outputs": [],
   "source": [
    "chi_stat,p_value,dof,expected_value = chi2_contingency(observed_value)"
   ]
  },
  {
   "cell_type": "code",
   "execution_count": 79,
   "id": "b8043f8f-22fe-48c9-a2ec-998d60afaf1a",
   "metadata": {},
   "outputs": [
    {
     "data": {
      "text/plain": [
       "(27.777056277056275,\n",
       " 0.00010349448486004387,\n",
       " 6,\n",
       " array([[34.14634146, 34.14634146, 37.56097561, 34.14634146],\n",
       "        [36.58536585, 36.58536585, 40.24390244, 36.58536585],\n",
       "        [29.26829268, 29.26829268, 32.19512195, 29.26829268]]))"
      ]
     },
     "execution_count": 79,
     "metadata": {},
     "output_type": "execute_result"
    }
   ],
   "source": [
    "chi_stat,p_value,dof,expected_value "
   ]
  },
  {
   "cell_type": "code",
   "execution_count": 80,
   "id": "9a8f52c0-6d2d-450a-b569-3097fce24231",
   "metadata": {},
   "outputs": [
    {
     "name": "stdout",
     "output_type": "stream",
     "text": [
      "There is a significant relationship between product satisfaction and customer regions\n"
     ]
    }
   ],
   "source": [
    "if p_value<0.05:\n",
    "    print('There is a significant relationship between product satisfaction and customer regions')\n",
    "\n",
    "else:\n",
    "    print('There is no significant relationship between product satisfaction and customer regions')"
   ]
  },
  {
   "cell_type": "markdown",
   "id": "4d22fd9e-d064-49ce-9a33-3ff03e56231d",
   "metadata": {},
   "source": [
    "# Q.NO.23"
   ]
  },
  {
   "cell_type": "code",
   "execution_count": 81,
   "id": "73eac63a-c14d-467f-9e73-ae4e8f3f318e",
   "metadata": {},
   "outputs": [
    {
     "data": {
      "text/html": [
       "<div>\n",
       "<style scoped>\n",
       "    .dataframe tbody tr th:only-of-type {\n",
       "        vertical-align: middle;\n",
       "    }\n",
       "\n",
       "    .dataframe tbody tr th {\n",
       "        vertical-align: top;\n",
       "    }\n",
       "\n",
       "    .dataframe thead th {\n",
       "        text-align: right;\n",
       "    }\n",
       "</style>\n",
       "<table border=\"1\" class=\"dataframe\">\n",
       "  <thead>\n",
       "    <tr style=\"text-align: right;\">\n",
       "      <th></th>\n",
       "      <th>Effective</th>\n",
       "      <th>Neutral</th>\n",
       "      <th>Ineffective</th>\n",
       "    </tr>\n",
       "  </thead>\n",
       "  <tbody>\n",
       "    <tr>\n",
       "      <th>Effective</th>\n",
       "      <td>50</td>\n",
       "      <td>30</td>\n",
       "      <td>20</td>\n",
       "    </tr>\n",
       "    <tr>\n",
       "      <th>Neutral</th>\n",
       "      <td>30</td>\n",
       "      <td>40</td>\n",
       "      <td>30</td>\n",
       "    </tr>\n",
       "    <tr>\n",
       "      <th>Ineffective</th>\n",
       "      <td>20</td>\n",
       "      <td>30</td>\n",
       "      <td>40</td>\n",
       "    </tr>\n",
       "  </tbody>\n",
       "</table>\n",
       "</div>"
      ],
      "text/plain": [
       "             Effective  Neutral  Ineffective\n",
       "Effective           50       30           20\n",
       "Neutral             30       40           30\n",
       "Ineffective         20       30           40"
      ]
     },
     "execution_count": 81,
     "metadata": {},
     "output_type": "execute_result"
    }
   ],
   "source": [
    "data = np.array([[50,30,20],[30,40,30],[20,30,40]])\n",
    "df = pd.DataFrame(data , index = ['Effective','Neutral','Ineffective'],columns = ['Effective','Neutral','Ineffective'])\n",
    "df\n"
   ]
  },
  {
   "cell_type": "code",
   "execution_count": 82,
   "id": "0e2db101-275f-475a-835b-35d98ef39142",
   "metadata": {},
   "outputs": [],
   "source": [
    "chi_stats,pvalue,dof,expected_value = chi2_contingency(df.values)"
   ]
  },
  {
   "cell_type": "code",
   "execution_count": 83,
   "id": "cc9390dd-582a-4d72-b034-0032273948e4",
   "metadata": {},
   "outputs": [
    {
     "data": {
      "text/plain": [
       "(22.161728395061726,\n",
       " 0.00018609719479882557,\n",
       " 4,\n",
       " array([[34.48275862, 34.48275862, 31.03448276],\n",
       "        [34.48275862, 34.48275862, 31.03448276],\n",
       "        [31.03448276, 31.03448276, 27.93103448]]))"
      ]
     },
     "execution_count": 83,
     "metadata": {},
     "output_type": "execute_result"
    }
   ],
   "source": [
    "chi_stats,pvalue,dof,expected_value"
   ]
  },
  {
   "cell_type": "code",
   "execution_count": 84,
   "id": "f4f85a3c-2762-4462-968d-a5ab611e0350",
   "metadata": {},
   "outputs": [
    {
     "name": "stdout",
     "output_type": "stream",
     "text": [
      "There is a significant difference between before and after training\n"
     ]
    }
   ],
   "source": [
    "if p_value<0.05:\n",
    "    print('There is a significant difference between before and after training')\n",
    "\n",
    "else:\n",
    "    print('There is no significant difference between before and after training')"
   ]
  },
  {
   "cell_type": "markdown",
   "id": "419131f4-708a-4d5a-b7c4-6e3a416af353",
   "metadata": {},
   "source": [
    "# Q.NO.24"
   ]
  },
  {
   "cell_type": "code",
   "execution_count": 85,
   "id": "21167292-e3e3-44d0-85e4-4227f1fff3df",
   "metadata": {},
   "outputs": [],
   "source": [
    "from scipy.stats import f_oneway"
   ]
  },
  {
   "cell_type": "code",
   "execution_count": 86,
   "id": "bd298ad8-223d-4d15-865a-373c1cb15379",
   "metadata": {},
   "outputs": [],
   "source": [
    "standard_scores = [80,85,90,78,88,82,92,78,85,87]\n",
    "premium_scores = [90,92,88,92,95,91,96,93,89,93]\n",
    "deluxe_scores = [95,98,92,97,96,94,98,97,92,99]\n",
    "\n",
    "f_stat,p_value = f_oneway(standard_scores,premium_scores,deluxe_scores)"
   ]
  },
  {
   "cell_type": "code",
   "execution_count": 87,
   "id": "2506d463-d466-4a27-ae84-3a1dd2a226ba",
   "metadata": {},
   "outputs": [
    {
     "data": {
      "text/plain": [
       "(27.03556231003039, 3.5786328857349003e-07)"
      ]
     },
     "execution_count": 87,
     "metadata": {},
     "output_type": "execute_result"
    }
   ],
   "source": [
    "f_stat,p_value\n"
   ]
  },
  {
   "cell_type": "code",
   "execution_count": 88,
   "id": "2d0cdcd8-2be6-4ee9-8903-7cd27a1fcb6a",
   "metadata": {},
   "outputs": [
    {
     "name": "stdout",
     "output_type": "stream",
     "text": [
      "there is difference in satisfaction scores\n"
     ]
    }
   ],
   "source": [
    "if pvalue < 0.05:\n",
    "    print('there is difference in satisfaction scores')\n",
    "    \n",
    "else:\n",
    "    print('there is no difference in satisfaction scores')"
   ]
  },
  {
   "cell_type": "code",
   "execution_count": null,
   "id": "4f85ab2f-5806-4962-a296-d84133ecb4b0",
   "metadata": {},
   "outputs": [],
   "source": []
  }
 ],
 "metadata": {
  "kernelspec": {
   "display_name": "Python 3 (ipykernel)",
   "language": "python",
   "name": "python3"
  },
  "language_info": {
   "codemirror_mode": {
    "name": "ipython",
    "version": 3
   },
   "file_extension": ".py",
   "mimetype": "text/x-python",
   "name": "python",
   "nbconvert_exporter": "python",
   "pygments_lexer": "ipython3",
   "version": "3.11.7"
  }
 },
 "nbformat": 4,
 "nbformat_minor": 5
}
